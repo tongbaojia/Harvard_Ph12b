{
 "cells": [
   {
   "cell_type": "markdown",
   "metadata": {},
   "source": [
    "Tony Tong. For Harvard Ph12b 2017. "
   ]
  },
  {
   "cell_type": "code",
   "execution_count": null,
   "metadata": {
    "collapsed": false
   },
   "outputs": [],
   "source": ["# simple_oscillator.py\n# -------------------------------------------------------------------------\n# Define function to use in solution of differential equation for a simple\n# harmonic oscillator.\n# ------------------------------------------------------------------------- \ndef F(y, t):\n\t\"\"\"\n\tReturn derivatives for 2nd order ODE y'' = -y.\n\t\"\"\"\n\tdy = [0, 0]\t\t\t# preallocate list to store derivatives\n\tdy[0] = y[1]\t\t# first derivative of y(t)\n\tdy[1] = -y[0]\t\t# second derivative of y(t)\n\treturn dy\n"]
  }
 ],
 "metadata": {
  "kernelspec": {
   "display_name": "Python 3",
   "language": "python",
   "name": "python3"
  },
  "language_info": {
   "codemirror_mode": {
    "name": "ipython",
    "version": 3
   },
   "file_extension": ".py",
   "mimetype": "text/x-python",
   "name": "python",
   "nbconvert_exporter": "python",
   "pygments_lexer": "ipython3",
   "version": "3.6.1"
  }
 },
 "nbformat": 4,
 "nbformat_minor": 2
}