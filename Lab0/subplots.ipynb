{
 "cells": [
  {
   "cell_type": "markdown",
   "metadata": {},
   "source": [
    "Tony Tong. For Harvard Ph12b 2017. "
   ]
  },
  {
   "cell_type": "code",
   "execution_count": 48,
   "metadata": {},
   "outputs": [
    {
     "name": "stdout",
     "output_type": "stream",
     "text": [
      "[ 0.          0.11111111  0.22222222  0.33333333  0.44444444  0.55555556\n",
      "  0.66666667  0.77777778  0.88888889  1.        ]\n",
      "<class 'numpy.ndarray'>\n",
      "0.444444444444\n"
     ]
    },
    {
     "data": {
      "image/png": "[encoded data removed]",
      "text/plain": [
       "<matplotlib.figure.Figure at 0x114a01dd8>"
      ]
     },
     "metadata": {},
     "output_type": "display_data"
    }
   ],
   "source": [
    "# subplots.py\n",
    "# -------------------------------------------------------------------------\n",
    "# Create four plots in the same figure.\n",
    "# ------------------------------------------------------------------------- \n",
    "import numpy as np\n",
    "import matplotlib.pyplot as plt\n",
    "from numpy.random import random\n",
    "\n",
    "t = np.linspace(0, 1, 10)\n",
    "print(t)\n",
    "print(type(t))\n",
    "#print(len(t))\n",
    "print(t[4])\n",
    "\n",
    "plt.figure()\n",
    "plt.subplot(2, 2, 1); plt.hist(random(70))\n",
    "plt.subplot(2, 2, 2); plt.plot(t, t**2, \"go\", t, t**3 -t )\n",
    "plt.subplot(2, 2, 3); plt.plot(random(20), random(20), 'r*')\n",
    "plt.subplot(2, 2, 4); plt.plot(t*np.cos(10*t), t*np.sin(10*t))\n",
    "#print(t*np.cos(10*t))\n",
    "plt.show()\n"
   ]
  },
  {
   "cell_type": "code",
   "execution_count": 55,
   "metadata": {},
   "outputs": [
    {
     "name": "stdout",
     "output_type": "stream",
     "text": [
      "[[ 2.5  2.5  2.5  2.5  2.5]\n",
      " [ 2.5  2.5  2.5  2.5  2.5]\n",
      " [ 2.5  2.5  2.5  2.5  2.5]\n",
      " [ 2.5  2.5  2.5  2.5  2.5]\n",
      " [ 2.5  2.5  2.5  2.5  2.5]]\n"
     ]
    }
   ],
   "source": [
    "a = np.zeors([5, 5])\n",
    "#a = a*2.5\n",
    "a.fill(2.5)\n",
    "print(a)"
   ]
  },
  {
   "cell_type": "code",
   "execution_count": 45,
   "metadata": {
    "collapsed": true
   },
   "outputs": [],
   "source": [
    "a[2, 3] = 1"
   ]
  },
  {
   "cell_type": "code",
   "execution_count": 46,
   "metadata": {},
   "outputs": [
    {
     "name": "stdout",
     "output_type": "stream",
     "text": [
      "[[ 0.  0.  0.  0.  0.]\n",
      " [ 0.  0.  0.  0.  0.]\n",
      " [ 0.  0.  0.  1.  0.]\n",
      " [ 0.  0.  0.  0.  0.]\n",
      " [ 0.  0.  0.  0.  0.]]\n"
     ]
    }
   ],
   "source": [
    "print(a)"
   ]
  },
  {
   "cell_type": "code",
   "execution_count": 50,
   "metadata": {},
   "outputs": [
    {
     "name": "stdout",
     "output_type": "stream",
     "text": [
      "[1 2]\n"
     ]
    }
   ],
   "source": [
    "a = np.array([1, 2])\n",
    "print(a)"
   ]
  },
  {
   "cell_type": "code",
   "execution_count": null,
   "metadata": {
    "collapsed": true
   },
   "outputs": [],
   "source": []
  }
 ],
 "metadata": {
  "kernelspec": {
   "display_name": "Python 3",
   "language": "python",
   "name": "python3"
  },
  "language_info": {
   "codemirror_mode": {
    "name": "ipython",
    "version": 3
   },
   "file_extension": ".py",
   "mimetype": "text/x-python",
   "name": "python",
   "nbconvert_exporter": "python",
   "pygments_lexer": "ipython3",
   "version": "3.6.1"
  }
 },
 "nbformat": 4,
 "nbformat_minor": 2
}
