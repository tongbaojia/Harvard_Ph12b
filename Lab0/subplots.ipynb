{
 "cells": [
   {
   "cell_type": "markdown",
   "metadata": {},
   "source": [
    "Tony Tong. For Harvard Ph12b 2017. "
   ]
  },
  {
   "cell_type": "code",
   "execution_count": null,
   "metadata": {
    "collapsed": false
   },
   "outputs": [],
   "source": ["# subplots.py\n# -------------------------------------------------------------------------\n# Create four plots in the same figure.\n# ------------------------------------------------------------------------- \nimport numpy as np\nimport matplotlib.pyplot as plt\nfrom numpy.random import random\n\nt = np.linspace(0, 1, 101)\n\nplt.figure()\nplt.subplot(2, 2, 1); plt.hist(random(20))\nplt.subplot(2, 2, 2); plt.plot(t, t**2, t, t**3 - t)\nplt.subplot(2, 2, 3); plt.plot(random(20), random(20), 'r*')\nplt.subplot(2, 2, 4); plt.plot(t*np.cos(10*t), t*np.sin(10*t))\nplt.show()\n"]
  }
 ],
 "metadata": {
  "kernelspec": {
   "display_name": "Python 3",
   "language": "python",
   "name": "python3"
  },
  "language_info": {
   "codemirror_mode": {
    "name": "ipython",
    "version": 3
   },
   "file_extension": ".py",
   "mimetype": "text/x-python",
   "name": "python",
   "nbconvert_exporter": "python",
   "pygments_lexer": "ipython3",
   "version": "3.6.1"
  }
 },
 "nbformat": 4,
 "nbformat_minor": 2
}