{
 "cells": [
   {
   "cell_type": "markdown",
   "metadata": {},
   "source": [
    "Tony Tong. For Harvard Ph12b 2017. "
   ]
  },
  {
   "cell_type": "code",
   "execution_count": null,
   "metadata": {
    "collapsed": false
   },
   "outputs": [],
   "source": ["# projectile.py (Python 3.4)\n# Jesse M. Kinder -- 2014 Nov 11\n\"\"\"\nCalculate how long an object is in the air when thrown from a spcified height\nwith a range of initial speeds assuming constant acceleration due to gravity:\n\t0.5 * g * t**2 - v0 * t - y0 = 0\n\"\"\"\nimport numpy as np\n\n#%% Initialization of variables.\ninitial_speed = 0.0\t\t\t# v0 = initial vertical speed of ball in [m/s]\nimpact_time = 0.0\t\t\t# t = time of impact in [s] (computed in loop)\n\n#%% Initialization of parameters.\ng = 9.8066\t\t\t\t\t# gravitational acceleration in [m/s^2]\ninitial_height = 2.0\t\t# y0 = height ball is thrown from in [m]\nspeed_increment = 5.0\t\t# how much to increase speed in [m/s] for each iteration\ncutoff_time = 10.0\t\t\t# stop computing after impact time exceeds cutoff\n\n#%% Calculate and display impact time.  Increment initial speed each step.\n#\tRepeat until impact time exceeds cutoff.\nwhile impact_time < cutoff_time:\n\t# Use quadratic equation to solve kinematic equation for impact time:\n\timpact_time = (np.sqrt(initial_speed**2 + 2 * g * initial_height) + initial_speed) / g\n\tprint(\"speed= {} m/s; time= {:.1f} s\".format(initial_speed, impact_time))\n\tinitial_speed += speed_increment\nprint(\"Calculation complete.\")\n"]
  }
 ],
 "metadata": {
  "kernelspec": {
   "display_name": "Python 3",
   "language": "python",
   "name": "python3"
  },
  "language_info": {
   "codemirror_mode": {
    "name": "ipython",
    "version": 3
   },
   "file_extension": ".py",
   "mimetype": "text/x-python",
   "name": "python",
   "nbconvert_exporter": "python",
   "pygments_lexer": "ipython3",
   "version": "3.6.1"
  }
 },
 "nbformat": 4,
 "nbformat_minor": 2
}