{
 "cells": [
  {
   "cell_type": "markdown",
   "metadata": {},
   "source": [
    "Tony Tong. For Harvard Ph12b 2017. "
   ]
  },
  {
   "cell_type": "code",
   "execution_count": 8,
   "metadata": {},
   "outputs": [
    {
     "name": "stdout",
     "output_type": "stream",
     "text": [
      "speed= 0.0 m/s time= 0.6 s\n",
      "speed= 5.0 m/s time= 1.3 s\n",
      "speed= 10.0 m/s time= 2.2 s\n",
      "speed= 15.0 m/s time= 3.2 s\n",
      "speed= 20.0 m/s time= 4.2 s\n",
      "speed= 25.0 m/s time= 5.2 s\n",
      "speed= 30.0 m/s time= 6.2 s\n",
      "speed= 35.0 m/s time= 7.2 s\n",
      "speed= 40.0 m/s time= 8.2 s\n",
      "speed= 45.0 m/s time= 9.2 s\n",
      "speed= 50.0 m/s time= 10.2 s\n",
      "Calculation complete.\n"
     ]
    }
   ],
   "source": [
    "# projectile.py (Python 3.4)\n",
    "# Jesse M. Kinder -- 2014 Nov 11\n",
    "\"\"\"\n",
    "Calculate how long an object is in the air when thrown from a spcified height\n",
    "with a range of initial speeds assuming constant acceleration due to gravity:\n",
    "\t0.5 * g * t**2 - v0 * t - y0 = 0\n",
    "\"\"\"\n",
    "import numpy as np\n",
    "\n",
    "#%% Initialization of variables.\n",
    "initial_speed = 0.0\t\t\t# v0 = initial vertical speed of ball in [m/s]\n",
    "impact_time = 0.0\t\t\t# t = time of impact in [s] (computed in loop)\n",
    "\n",
    "#%% Initialization of parameters.\n",
    "g = 9.8066\t\t\t\t\t# gravitational acceleration in [m/s^2]\n",
    "initial_height = 2.0\t\t# y0 = height ball is thrown from in [m]\n",
    "speed_increment = 5.0\t\t# how much to increase speed in [m/s] for each iteration\n",
    "cutoff_time = 10.0\t\t\t# stop computing after impact time exceeds cutoff\n",
    "\n",
    "#%% Calculate and display impact time.  Increment initial speed each step.\n",
    "#\tRepeat until impact time exceeds cutoff.\n",
    "while impact_time < cutoff_time:\n",
    "\t# Use quadratic equation to solve kinematic equation for impact time:\n",
    "\timpact_time = (np.sqrt(initial_speed**2 + 2 * g * initial_height) + initial_speed) / g\n",
    "\tprint(\"speed= {} m/s time= {:.1f} s\".format(initial_speed, impact_time))\n",
    "\tinitial_speed += speed_increment\n",
    "print(\"Calculation complete.\")\n"
   ]
  },
  {
   "cell_type": "code",
   "execution_count": null,
   "metadata": {
    "collapsed": true
   },
   "outputs": [],
   "source": []
  }
 ],
 "metadata": {
  "kernelspec": {
   "display_name": "Python 3",
   "language": "python",
   "name": "python3"
  },
  "language_info": {
   "codemirror_mode": {
    "name": "ipython",
    "version": 3
   },
   "file_extension": ".py",
   "mimetype": "text/x-python",
   "name": "python",
   "nbconvert_exporter": "python",
   "pygments_lexer": "ipython3",
   "version": "3.6.1"
  }
 },
 "nbformat": 4,
 "nbformat_minor": 2
}
