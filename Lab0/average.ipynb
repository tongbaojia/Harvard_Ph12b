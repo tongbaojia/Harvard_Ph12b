{
 "cells": [
   {
   "cell_type": "markdown",
   "metadata": {},
   "source": [
    "Tony Tong. For Harvard Ph12b 2017. "
   ]
  },
  {
   "cell_type": "code",
   "execution_count": null,
   "metadata": {
    "collapsed": false
   },
   "outputs": [],
   "source": ["# average.py\n# -------------------------------------------------------------------------\n# Compute and return the cummulative average of an array.\n# ------------------------------------------------------------------------- \nimport numpy as np\n\ndef running_average(x):\n\t\"\"\"\n\tReturn cummulative average of an array.\n\t\"\"\"\n\ty = np.zeros(len(x))\t\t\t\t\t# empty array to store result\n\tcurrent_sum = 0.0\t\t\t\t\t\t# running sum of elements of x\n\tfor i in range(len(x)):\n\t\tcurrent_sum += x[i]\t\t\t\t\t# increment sum\n\t\ty[i] = current_sum / (i + 1.0)\t\t# update running average\n\treturn y\n"]
  }
 ],
 "metadata": {
  "kernelspec": {
   "display_name": "Python 3",
   "language": "python",
   "name": "python3"
  },
  "language_info": {
   "codemirror_mode": {
    "name": "ipython",
    "version": 3
   },
   "file_extension": ".py",
   "mimetype": "text/x-python",
   "name": "python",
   "nbconvert_exporter": "python",
   "pygments_lexer": "ipython3",
   "version": "3.6.1"
  }
 },
 "nbformat": 4,
 "nbformat_minor": 2
}