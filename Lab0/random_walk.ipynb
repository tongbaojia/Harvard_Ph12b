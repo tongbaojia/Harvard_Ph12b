{
 "cells": [
   {
   "cell_type": "markdown",
   "metadata": {},
   "source": [
    "Tony Tong. For Harvard Ph12b 2017. "
   ]
  },
  {
   "cell_type": "code",
   "execution_count": null,
   "metadata": {
    "collapsed": false
   },
   "outputs": [],
   "source": ["# random_walk.py\n# -------------------------------------------------------------------------\n# Monte Carlo simulation of a two-dimensional random walk.\n# ------------------------------------------------------------------------- \nimport numpy as np\nimport matplotlib.pyplot as plt\nfrom numpy.random import random as rng\n\nnum_steps = 500\nx_step = rng(num_steps) > 0.5\ny_step = rng(num_steps) > 0.5\nx_step = 2*x_step - 1\ny_step = 2*y_step - 1\nx_position = np.cumsum(x_step)\ny_position = np.cumsum(y_step)\n\nplt.figure()\nplt.plot(x_position, y_position)\nplt.axis('equal')\n\n# A more succinct alternative:\nx = ( 2*(rng(num_steps) > 0.5) - 1 ).cumsum()\ny = ( 2*(rng(num_steps) > 0.5) - 1 ).cumsum()\n\nplt.figure()\nplt.plot(x,y)\nplt.axis('equal')\n\nplt.show()\n"]
  }
 ],
 "metadata": {
  "kernelspec": {
   "display_name": "Python 3",
   "language": "python",
   "name": "python3"
  },
  "language_info": {
   "codemirror_mode": {
    "name": "ipython",
    "version": 3
   },
   "file_extension": ".py",
   "mimetype": "text/x-python",
   "name": "python",
   "nbconvert_exporter": "python",
   "pygments_lexer": "ipython3",
   "version": "3.6.1"
  }
 },
 "nbformat": 4,
 "nbformat_minor": 2
}