{
 "cells": [
   {
   "cell_type": "markdown",
   "metadata": {},
   "source": [
    "Tony Tong. For Harvard Ph12b 2017. "
   ]
  },
  {
   "cell_type": "code",
   "execution_count": null,
   "metadata": {
    "collapsed": false
   },
   "outputs": [],
   "source": ["# string_percent.py  (Python 3.4)\n# -------------------------------------------------------------------------\n# Illustrate string formatting using the % method.\n# ------------------------------------------------------------------------- \nimport numpy as np\n\nprint(\"The value of pi is approximately \" + str(np.pi))\nprint(\"The value of %s is approximately %.5f\" % ('pi', np.pi))\n\ns = \"%d plus %d is %d\"\nprint(s % (2, 4, 2 + 4))\n"]
  }
 ],
 "metadata": {
  "kernelspec": {
   "display_name": "Python 3",
   "language": "python",
   "name": "python3"
  },
  "language_info": {
   "codemirror_mode": {
    "name": "ipython",
    "version": 3
   },
   "file_extension": ".py",
   "mimetype": "text/x-python",
   "name": "python",
   "nbconvert_exporter": "python",
   "pygments_lexer": "ipython3",
   "version": "3.6.1"
  }
 },
 "nbformat": 4,
 "nbformat_minor": 2
}