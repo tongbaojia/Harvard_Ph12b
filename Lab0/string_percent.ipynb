{
 "cells": [
  {
   "cell_type": "markdown",
   "metadata": {},
   "source": [
    "Tony Tong. For Harvard Ph12b 2017. "
   ]
  },
  {
   "cell_type": "code",
   "execution_count": 2,
   "metadata": {},
   "outputs": [
    {
     "name": "stdout",
     "output_type": "stream",
     "text": [
      "The value of pi is approximately 3.141592653589793\n",
      "The value of pi is approximately 3.141593\n",
      "2 plus 4 is 6\n"
     ]
    }
   ],
   "source": [
    "# string_percent.py  (Python 3.4)\n",
    "# -------------------------------------------------------------------------\n",
    "# Illustrate string formatting using the % method.\n",
    "# ------------------------------------------------------------------------- \n",
    "import numpy as np\n",
    "\n",
    "print(\"The value of pi is approximately \" + str(np.pi))\n",
    "print(\"The value of %s is approximately %.6f\" % ('pi', np.pi))\n",
    "\n",
    "s = \"%d plus %d is %d\"\n",
    "print(s % (2, 4, 2 + 4))\n"
   ]
  },
  {
   "cell_type": "code",
   "execution_count": null,
   "metadata": {
    "collapsed": true
   },
   "outputs": [],
   "source": []
  }
 ],
 "metadata": {
  "kernelspec": {
   "display_name": "Python 3",
   "language": "python",
   "name": "python3"
  },
  "language_info": {
   "codemirror_mode": {
    "name": "ipython",
    "version": 3
   },
   "file_extension": ".py",
   "mimetype": "text/x-python",
   "name": "python",
   "nbconvert_exporter": "python",
   "pygments_lexer": "ipython3",
   "version": "3.6.1"
  }
 },
 "nbformat": 4,
 "nbformat_minor": 2
}
