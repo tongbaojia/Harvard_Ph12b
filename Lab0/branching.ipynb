{
 "cells": [
   {
   "cell_type": "markdown",
   "metadata": {},
   "source": [
    "Tony Tong. For Harvard Ph12b 2017. "
   ]
  },
  {
   "cell_type": "code",
   "execution_count": null,
   "metadata": {
    "collapsed": false
   },
   "outputs": [],
   "source": ["# branching.py (Python 3.4)\n\"\"\"\nThis script illustrates branching.\n\"\"\"\nimport numpy as np\n\nfor trial in range(5):\n\tuserInput = input('Pick a number: ')\n\tuserNumber = float(userInput)\n\tif userNumber < 0:\n\t\tprint('Square root is not real.')\n\telse:\n\t\tprint('Square root of {} is {:.4f}'.format(userNumber, np.sqrt(userNumber)))\n\tuserAgain = input('Another [y/n]? ')\n\tif userAgain != 'y':\n\t\tbreak\n\nif trial == 4:\n\tprint('Sorry, only 5 per customer.')\nelif userAgain == 'n':\n\tprint('Bye!')\nelse:\n\tprint('Sorry, I did not understand that.')\n"]
  }
 ],
 "metadata": {
  "kernelspec": {
   "display_name": "Python 3",
   "language": "python",
   "name": "python3"
  },
  "language_info": {
   "codemirror_mode": {
    "name": "ipython",
    "version": 3
   },
   "file_extension": ".py",
   "mimetype": "text/x-python",
   "name": "python",
   "nbconvert_exporter": "python",
   "pygments_lexer": "ipython3",
   "version": "3.6.1"
  }
 },
 "nbformat": 4,
 "nbformat_minor": 2
}