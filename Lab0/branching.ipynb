{
 "cells": [
  {
   "cell_type": "markdown",
   "metadata": {},
   "source": [
    "Tony Tong. For Harvard Ph12b 2017. "
   ]
  },
  {
   "cell_type": "code",
   "execution_count": 1,
   "metadata": {},
   "outputs": [
    {
     "name": "stdout",
     "output_type": "stream",
     "text": [
      "Pick a number: 3\n",
      "Square root of 3.0 is 1.7321\n",
      "Another [y/n]? y\n",
      "Pick a number: 5\n",
      "Square root of 5.0 is 2.2361\n",
      "Another [y/n]? n\n",
      "Bye!\n"
     ]
    }
   ],
   "source": [
    "# branching.py (Python 3.4)\n",
    "\"\"\"\n",
    "This script illustrates branching.\n",
    "\"\"\"\n",
    "import numpy as np\n",
    "\n",
    "for trial in range(5):\n",
    "\tuserInput = input('Pick a number: ')\n",
    "\tuserNumber = float(userInput) ##what if you change this to sth like int or str\n",
    "\tif userNumber < 0:\n",
    "\t\tprint('Square root is not real.')\n",
    "\telse:\n",
    "\t\tprint('Square root of {} is {:.4f}'.format(userNumber, np.sqrt(userNumber)))\n",
    "\tuserAgain = input('Another [y/n]? ')\n",
    "\tif userAgain != 'y':\n",
    "\t\tbreak\n",
    "\n",
    "if trial == 4:\n",
    "\tprint('Sorry, only 5 per customer.')\n",
    "elif userAgain == 'n':\n",
    "\tprint('Bye!')\n",
    "else:\n",
    "\tprint('Sorry, I did not understand that.')\n"
   ]
  },
  {
   "cell_type": "code",
   "execution_count": null,
   "metadata": {
    "collapsed": true
   },
   "outputs": [],
   "source": []
  }
 ],
 "metadata": {
  "kernelspec": {
   "display_name": "Python 3",
   "language": "python",
   "name": "python3"
  },
  "language_info": {
   "codemirror_mode": {
    "name": "ipython",
    "version": 3
   },
   "file_extension": ".py",
   "mimetype": "text/x-python",
   "name": "python",
   "nbconvert_exporter": "python",
   "pygments_lexer": "ipython3",
   "version": "3.6.1"
  }
 },
 "nbformat": 4,
 "nbformat_minor": 2
}
