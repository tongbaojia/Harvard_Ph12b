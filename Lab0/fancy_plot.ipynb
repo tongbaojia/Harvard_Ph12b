{
 "cells": [
   {
   "cell_type": "markdown",
   "metadata": {},
   "source": [
    "Tony Tong. For Harvard Ph12b 2017. "
   ]
  },
  {
   "cell_type": "code",
   "execution_count": null,
   "metadata": {
    "collapsed": false
   },
   "outputs": [],
   "source": ["# fancy_plot.py\n# -------------------------------------------------------------------------\n# Add a title and axis labels to a simple plot.\n# ------------------------------------------------------------------------- \nimport numpy as np\nimport matplotlib.pyplot as plt\n\nx_min, x_max = -4, 4\nnum_points = 51\nx_list = np.linspace(x_min, x_max, num_points)\ny_list = x_list**2\n\nplt.figure()\nplt.plot(x_list, y_list, 'r', linewidth=3)\n\nax = plt.gca()\nax.set_title(\"A Second Order Polynomial\", fontsize=16)\nax.set_xlabel(\"$x$\", fontsize=24)\nax.set_ylabel(\"$y = x^2$\", fontsize=24)\n\nplt.show()\n"]
  }
 ],
 "metadata": {
  "kernelspec": {
   "display_name": "Python 3",
   "language": "python",
   "name": "python3"
  },
  "language_info": {
   "codemirror_mode": {
    "name": "ipython",
    "version": 3
   },
   "file_extension": ".py",
   "mimetype": "text/x-python",
   "name": "python",
   "nbconvert_exporter": "python",
   "pygments_lexer": "ipython3",
   "version": "3.6.1"
  }
 },
 "nbformat": 4,
 "nbformat_minor": 2
}