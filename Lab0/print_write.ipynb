{
 "cells": [
  {
   "cell_type": "markdown",
   "metadata": {},
   "source": [
    "Tony Tong. For Harvard Ph12b 2017. "
   ]
  },
  {
   "cell_type": "code",
   "execution_count": 3,
   "metadata": {},
   "outputs": [
    {
     "name": "stdout",
     "output_type": "stream",
     "text": [
      " N \t\t2**N\t\t3**N\n",
      "---\t\t----\t\t----\n",
      "0\t\t1\t\t1\n",
      "1\t\t2\t\t3\n",
      "2\t\t4\t\t9\n",
      "3\t\t8\t\t27\n",
      "4\t\t16\t\t81\n",
      "5\t\t32\t\t243\n",
      "6\t\t64\t\t729\n",
      "7\t\t128\t\t2187\n",
      "8\t\t256\t\t6561\n",
      "9\t\t512\t\t19683\n",
      "10\t\t1024\t\t59049\n"
     ]
    }
   ],
   "source": [
    "# print_write.py\t(Python 3.4)\n",
    "# -------------------------------------------------------------------------\n",
    "# Write same data to a file and print to display.\n",
    "# See this: https://www.tutorialspoint.com/python/python_strings.htm\n",
    "# ------------------------------------------------------------------------- \n",
    "f = open('power.txt','w')\n",
    "\n",
    "print(\" N \\t\\t2**N\\t\\t3**N\")\t\t# print labels for columns\n",
    "f.write(\" N \\t\\t2**N\\t\\t3**N\\n\")\t# write labels to file\n",
    "print(\"---\\t\\t----\\t\\t----\")\t\t# print separator\n",
    "f.write(\"---\\t\\t----\\t\\t----\\n\")\t# write separator to file\n",
    "\n",
    "#%% loop over integers from 0 to 10 and print/write results\n",
    "for N in range(11):\n",
    "\tprint(\"{:d}\\t\\t{:d}\\t\\t{:d}\".format(N, pow(2,N), pow(3,N)))\n",
    "\tf.write(\"{:d}\\t\\t{:d}\\t\\t{:d}\\n\".format(N, pow(2,N), pow(3,N)))\n",
    "f.close()\n"
   ]
  },
  {
   "cell_type": "code",
   "execution_count": 4,
   "metadata": {},
   "outputs": [
    {
     "name": "stdout",
     "output_type": "stream",
     "text": [
      "HIVseries.csv                print_write.ipynb\r\n",
      "LICENSE.txt                  projectile.ipynb\r\n",
      "average.ipynb                quadrature.ipynb\r\n",
      "branching.ipynb              quiver.ipynb\r\n",
      "contour.ipynb                random_walk.ipynb\r\n",
      "convolution.ipynb            rotate.ipynb\r\n",
      "fancy_plot.ipynb             save_load.ipynb\r\n",
      "for_loop.ipynb               scope.ipynb\r\n",
      "g26perrindata.npy            simple_oscillator.ipynb\r\n",
      "gradient.ipynb               simple_plot.ipynb\r\n",
      "graph_modifications.ipynb    solve_ode.ipynb\r\n",
      "histogram.ipynb              streamlines.ipynb\r\n",
      "html_movie.ipynb             string_format.ipynb\r\n",
      "import_text.ipynb            string_percent.ipynb\r\n",
      "legend.ipynb                 subplots.ipynb\r\n",
      "line3d.ipynb                 surface.ipynb\r\n",
      "matrix_inversion.ipynb       surprise.ipynb\r\n",
      "measurement.ipynb            sympy_examples.ipynb\r\n",
      "name_collision.ipynb         vectorize.ipynb\r\n",
      "nesting.ipynb                walker.ipynb\r\n",
      "parametric_oscillator.ipynb  waves.ipynb\r\n",
      "perrin.ipynb                 while_loop.ipynb\r\n",
      "power.txt\r\n"
     ]
    }
   ],
   "source": [
    "%ls"
   ]
  },
  {
   "cell_type": "code",
   "execution_count": 5,
   "metadata": {
    "collapsed": true
   },
   "outputs": [],
   "source": [
    "%more power.txt ##this is a commandline argument"
   ]
  },
  {
   "cell_type": "code",
   "execution_count": null,
   "metadata": {
    "collapsed": true
   },
   "outputs": [],
   "source": []
  }
 ],
 "metadata": {
  "kernelspec": {
   "display_name": "Python 3",
   "language": "python",
   "name": "python3"
  },
  "language_info": {
   "codemirror_mode": {
    "name": "ipython",
    "version": 3
   },
   "file_extension": ".py",
   "mimetype": "text/x-python",
   "name": "python",
   "nbconvert_exporter": "python",
   "pygments_lexer": "ipython3",
   "version": "3.6.1"
  }
 },
 "nbformat": 4,
 "nbformat_minor": 2
}
