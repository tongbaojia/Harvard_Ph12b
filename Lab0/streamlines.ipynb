{
 "cells": [
   {
   "cell_type": "markdown",
   "metadata": {},
   "source": [
    "Tony Tong. For Harvard Ph12b 2017. "
   ]
  },
  {
   "cell_type": "code",
   "execution_count": null,
   "metadata": {
    "collapsed": false
   },
   "outputs": [],
   "source": ["# streamlines.py\n# -------------------------------------------------------------------------\n# Create streamlines from a vector field.\n# ------------------------------------------------------------------------- \nimport numpy as np\nimport matplotlib.pyplot as plt\n\n# generate grid of points\nlower = -2; upper = 2; step = 0.2\ncoords = np.arange(lower, upper+step, step)\nX, Y = np.meshgrid(coords, coords)\n\n# define vector field\nVx, Vy = Y, -X\n\n# display streamlines defined by vector field\nplt.figure()\nplt.streamplot(X, Y, Vx, Vy, linewidth=2)\nplt.show()\n"]
  }
 ],
 "metadata": {
  "kernelspec": {
   "display_name": "Python 3",
   "language": "python",
   "name": "python3"
  },
  "language_info": {
   "codemirror_mode": {
    "name": "ipython",
    "version": 3
   },
   "file_extension": ".py",
   "mimetype": "text/x-python",
   "name": "python",
   "nbconvert_exporter": "python",
   "pygments_lexer": "ipython3",
   "version": "3.6.1"
  }
 },
 "nbformat": 4,
 "nbformat_minor": 2
}