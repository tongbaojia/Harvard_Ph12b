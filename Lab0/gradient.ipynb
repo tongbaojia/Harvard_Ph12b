{
 "cells": [
   {
   "cell_type": "markdown",
   "metadata": {},
   "source": [
    "Tony Tong. For Harvard Ph12b 2017. "
   ]
  },
  {
   "cell_type": "code",
   "execution_count": null,
   "metadata": {
    "collapsed": false
   },
   "outputs": [],
   "source": ["# gradient.py\n# -------------------------------------------------------------------------\n# Calculate and display the gradient of a two-dimensional Gaussian.\n# ------------------------------------------------------------------------- \nimport numpy as np\nimport matplotlib.pyplot as plt\n\ncoords = np.linspace(-2, 2, 101)\nX, Y = np.meshgrid(coords[::5], coords[::5])\t# coarse grid for vector field\nR = np.sqrt(X**2 + Y**2)\nZ = np.exp(-R**2)\nx, y = np.meshgrid(coords, coords)\t\t\t\t# fine grid for contour plot\nr = np.sqrt(x**2 + y**2)\nz = np.exp(-r**2)\n\nds = coords[5] - coords[0]\t\t\t\t\t\t# coarse grid spacing\ndX, dY = np.gradient(Z, ds)\t\t\t\t\t\t# calculate gradient\n\nplt.figure()\nplt.contourf(x, y, z, 25)\t\t\t\t\t\nplt.set_cmap('coolwarm')\nplt.quiver(X, Y, dX.transpose(), dY.transpose(), scale=25, color='k')\nplt.axis('tight')\nplt.show()\n"]
  }
 ],
 "metadata": {
  "kernelspec": {
   "display_name": "Python 3",
   "language": "python",
   "name": "python3"
  },
  "language_info": {
   "codemirror_mode": {
    "name": "ipython",
    "version": 3
   },
   "file_extension": ".py",
   "mimetype": "text/x-python",
   "name": "python",
   "nbconvert_exporter": "python",
   "pygments_lexer": "ipython3",
   "version": "3.6.1"
  }
 },
 "nbformat": 4,
 "nbformat_minor": 2
}