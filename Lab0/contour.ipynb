{
 "cells": [
   {
   "cell_type": "markdown",
   "metadata": {},
   "source": [
    "Tony Tong. For Harvard Ph12b 2017. "
   ]
  },
  {
   "cell_type": "code",
   "execution_count": null,
   "metadata": {
    "collapsed": false
   },
   "outputs": [],
   "source": ["# contour.py\n# -------------------------------------------------------------------------\n# Create a labeled contour plot.\n# ------------------------------------------------------------------------- \nimport numpy as np\nimport matplotlib.pyplot as plt\n\n#%% Create a grid of x and y coordinates\nx_vals = np.linspace(-3, 3, 21)\ny_vals = np.linspace(0, 10, 11)\nX, Y = np.meshgrid(x_vals, y_vals)\n\n#%% Generate function values. \nZ = np.cos(X) * np.sin(Y)\n\n#%% Plot and label contours.\nplt.figure()\ncs = plt.contour(X, Y, Z, 10, linewidths=3, colors='k')\nplt.clabel(cs,fontsize=10)\nplt.show()\n"]
  }
 ],
 "metadata": {
  "kernelspec": {
   "display_name": "Python 3",
   "language": "python",
   "name": "python3"
  },
  "language_info": {
   "codemirror_mode": {
    "name": "ipython",
    "version": 3
   },
   "file_extension": ".py",
   "mimetype": "text/x-python",
   "name": "python",
   "nbconvert_exporter": "python",
   "pygments_lexer": "ipython3",
   "version": "3.6.1"
  }
 },
 "nbformat": 4,
 "nbformat_minor": 2
}