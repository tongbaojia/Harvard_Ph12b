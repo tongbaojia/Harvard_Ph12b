{
 "cells": [
  {
   "cell_type": "markdown",
   "metadata": {},
   "source": [
    "Tony Tong. For Harvard Ph12b 2017. "
   ]
  },
  {
   "cell_type": "code",
   "execution_count": 12,
   "metadata": {},
   "outputs": [
    {
     "name": "stdout",
     "output_type": "stream",
     "text": [
      "x: [ 3.8 -1.6]\n",
      "error: [  0.00000000e+00  -8.88178420e-16]\n"
     ]
    }
   ],
   "source": [
    "# matrix_inversion.py\n",
    "# -------------------------------------------------------------------------\n",
    "# Invert a simple matrix to solve a system of linear equations.\n",
    "# ------------------------------------------------------------------------- \n",
    "import numpy as np\n",
    "from scipy.linalg import inv\n",
    "\n",
    "#%% Set up and solve C.x = a\n",
    "a = np.array([-1, 5])\n",
    "C = np.array([[1, 3], [3, 4]])\n",
    "x = np.dot(inv(C), a)\n",
    "#x = np.dot(C.T, a) ##this is the transpose\n",
    "print(\"x:\", x)\n",
    "#%% Check solution.\n",
    "error = np.dot(C,x) - a\n",
    "print(\"error:\", error)"
   ]
  },
  {
   "cell_type": "code",
   "execution_count": null,
   "metadata": {
    "collapsed": true
   },
   "outputs": [],
   "source": []
  }
 ],
 "metadata": {
  "kernelspec": {
   "display_name": "Python 3",
   "language": "python",
   "name": "python3"
  },
  "language_info": {
   "codemirror_mode": {
    "name": "ipython",
    "version": 3
   },
   "file_extension": ".py",
   "mimetype": "text/x-python",
   "name": "python",
   "nbconvert_exporter": "python",
   "pygments_lexer": "ipython3",
   "version": "3.6.1"
  }
 },
 "nbformat": 4,
 "nbformat_minor": 2
}
