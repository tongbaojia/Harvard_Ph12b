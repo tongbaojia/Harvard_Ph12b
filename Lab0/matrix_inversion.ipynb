{
 "cells": [
  {
   "cell_type": "markdown",
   "metadata": {},
   "source": [
    "Tony Tong. For Harvard Ph12b 2017. "
   ]
  },
  {
   "cell_type": "code",
   "execution_count": 1,
   "metadata": {},
   "outputs": [
    {
     "name": "stdout",
     "output_type": "stream",
     "text": [
      "x: [ 3.8 -1.6]\n",
      "error: [  0.00000000e+00  -8.88178420e-16]\n"
     ]
    }
   ],
   "source": [
    "# matrix_inversion.py\n",
    "# -------------------------------------------------------------------------\n",
    "# Invert a simple matrix to solve a system of linear equations.\n",
    "# ------------------------------------------------------------------------- \n",
    "import numpy as np\n",
    "from scipy.linalg import inv\n",
    "\n",
    "#%% Set up and solve C.x = a\n",
    "a = np.array([-1, 5])\n",
    "C = np.array([[1, 3], [3, 4]])\n",
    "x = np.dot(inv(C), a)\n",
    "#x = np.dot(C.T, a) ##this is the transpose\n",
    "print(\"x:\", x)\n",
    "#%% Check solution.\n",
    "error = np.dot(C,x) - a\n",
    "print(\"error:\", error)"
   ]
  },
  {
   "cell_type": "code",
   "execution_count": 56,
   "metadata": {},
   "outputs": [
    {
     "name": "stdout",
     "output_type": "stream",
     "text": [
      "IPython console for SymPy 1.0 (Python 3.6.1-64-bit) (ground types: python)\n",
      "\n",
      "These commands were executed:\n",
      ">>> from __future__ import division\n",
      ">>> from sympy import *\n",
      ">>> x, y, z, t = symbols('x y z t')\n",
      ">>> k, m, n = symbols('k m n', integer=True)\n",
      ">>> f, g, h = symbols('f g h', cls=Function)\n",
      ">>> init_printing()\n",
      "\n",
      "Documentation can be found at http://docs.sympy.org/1.0/\n"
     ]
    },
    {
     "data": {
      "image/png": "[encoded data removed]",
      "text/latex": [
       "$$2 x + e^{x} - \\sin{\\left (x \\right )}$$"
      ],
      "text/plain": [
       "       x         \n",
       "2⋅x + ℯ  - sin(x)"
      ]
     },
     "execution_count": 56,
     "metadata": {},
     "output_type": "execute_result"
    }
   ],
   "source": [
    "import sympy as sy\n",
    "sy.init_session()\n",
    "sy.diff(cos(x) + x**2 + E**x)"
   ]
  },
  {
   "cell_type": "code",
   "execution_count": 59,
   "metadata": {},
   "outputs": [],
   "source": [
    "import numpy as np\n",
    "def f(x):\n",
    "    return np.cos(x) + x**2 + np.e**x\n",
    "\n",
    "def grad_f(x):\n",
    "    return 2*x + np.e**x - np.sin(x)\n",
    "\n",
    "def grad_check(x, epsilon ):\n",
    "    return  (f(x + epsilon) - f(x - epsilon))/(2 * epsilon) - grad_f(x)\n",
    "\n",
    "import matplotlib.pyplot as plt\n",
    "x = np.linspace(0, 1, 20)\n",
    "plt.clf()\n",
    "for i in np.logspace(-4, -1, 4):\n",
    "    #print(i)\n",
    "    y = grad_check(x, i)\n",
    "    plt.plot(x, y, label=\"$\\epsilon$ = \" + str(i))\n",
    "plt.legend(loc='best')\n",
    "plt.xlabel(\"X\")\n",
    "plt.ylabel(\"Error\")\n",
    "plt.yscale(\"log\")\n",
    "plt.show()"
   ]
  },
  {
   "cell_type": "code",
   "execution_count": null,
   "metadata": {
    "collapsed": true
   },
   "outputs": [],
   "source": []
  }
 ],
 "metadata": {
  "kernelspec": {
   "display_name": "Python 3",
   "language": "python",
   "name": "python3"
  },
  "language_info": {
   "codemirror_mode": {
    "name": "ipython",
    "version": 3
   },
   "file_extension": ".py",
   "mimetype": "text/x-python",
   "name": "python",
   "nbconvert_exporter": "python",
   "pygments_lexer": "ipython3",
   "version": "3.6.1"
  }
 },
 "nbformat": 4,
 "nbformat_minor": 2
}
