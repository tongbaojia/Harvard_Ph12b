{
 "cells": [
   {
   "cell_type": "markdown",
   "metadata": {},
   "source": [
    "Tony Tong. For Harvard Ph12b 2017. "
   ]
  },
  {
   "cell_type": "code",
   "execution_count": null,
   "metadata": {
    "collapsed": false
   },
   "outputs": [],
   "source": ["# solveODE.py\n\"\"\"\nSolution of ODE for harmonic oscillator.\n\"\"\"\nimport numpy as np\nimport matplotlib.pyplot as plt\nfrom scipy.integrate import odeint\n\n# Import function to integrate:\nfrom simple_oscillator import F\n\n# array of time values to study\nt_min = 0; t_max = 10; dt = 0.1\nt = np.arange(t_min, t_max+dt, dt)\n\n# two sets of initial conditions\ninitial_conditions = [ (1.0, 0.0), (0.0, 1.0) ]\n\nplt.figure()\t# Create figure; then, add plots.\nfor y0 in initial_conditions:\n\ty = odeint(F, y0, t)\n\tplt.plot(t, y[:, 0], linewidth=2)\n\nskip = 5\nt_test = t[::skip]\t\t\t\t\t\t\t# compare at a subset of points\nplt.plot(t_test, np.cos(t_test), 'bo')\t\t# exact solution for y0 = (1,0)\nplt.plot(t_test, np.sin(t_test), 'go')\t\t# exact solution for y0 = (0,1)\n\nplt.show()\n"]
  }
 ],
 "metadata": {
  "kernelspec": {
   "display_name": "Python 3",
   "language": "python",
   "name": "python3"
  },
  "language_info": {
   "codemirror_mode": {
    "name": "ipython",
    "version": 3
   },
   "file_extension": ".py",
   "mimetype": "text/x-python",
   "name": "python",
   "nbconvert_exporter": "python",
   "pygments_lexer": "ipython3",
   "version": "3.6.1"
  }
 },
 "nbformat": 4,
 "nbformat_minor": 2
}