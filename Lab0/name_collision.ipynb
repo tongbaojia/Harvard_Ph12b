{
 "cells": [
  {
   "cell_type": "markdown",
   "metadata": {},
   "source": [
    "Tony Tong. For Harvard Ph12b 2017. "
   ]
  },
  {
   "cell_type": "code",
   "execution_count": 1,
   "metadata": {},
   "outputs": [
    {
     "name": "stdout",
     "output_type": "stream",
     "text": [
      "Inside display() ...\n",
      "x= L\n",
      "y= E\n",
      "z= G\n",
      "Inside name_collision() ...\n",
      "x= E\n",
      "y= E\n",
      "z= G\n",
      "Outside function ...\n",
      "x= G\n",
      "y= G\n",
      "z= G\n"
     ]
    }
   ],
   "source": [
    "# name_collision.py\n",
    "# -------------------------------------------------------------------------\n",
    "# Demonstrate how Python's rules of scope prevent name collisions.\n",
    "# ------------------------------------------------------------------------- \n",
    "\n",
    "def name_collisions():\n",
    "\tx, y = 'E', 'E' ##here x, and y are internal variables; hence outside value is still different\n",
    "\tdef display():\n",
    "\t\tx = 'L'\n",
    "\t\tprint( \"Inside display() ...\" )\n",
    "\t\tprint( \"x= {}\\ny= {}\\nz= {}\".format(x,y,z) )\n",
    "\tdisplay()\n",
    "\tprint( \"Inside name_collision() ...\" )\n",
    "\tprint( \"x= {}\\ny= {}\\nz= {}\".format(x,y,z) )\n",
    "\n",
    "x, y, z = 'G', 'G', 'G'\n",
    "name_collisions()\n",
    "print( \"Outside function ...\" )\n",
    "print( \"x= {}\\ny= {}\\nz= {}\".format(x,y,z) )\n"
   ]
  },
  {
   "cell_type": "code",
   "execution_count": null,
   "metadata": {
    "collapsed": true
   },
   "outputs": [],
   "source": []
  }
 ],
 "metadata": {
  "kernelspec": {
   "display_name": "Python 3",
   "language": "python",
   "name": "python3"
  },
  "language_info": {
   "codemirror_mode": {
    "name": "ipython",
    "version": 3
   },
   "file_extension": ".py",
   "mimetype": "text/x-python",
   "name": "python",
   "nbconvert_exporter": "python",
   "pygments_lexer": "ipython3",
   "version": "3.6.1"
  }
 },
 "nbformat": 4,
 "nbformat_minor": 2
}
