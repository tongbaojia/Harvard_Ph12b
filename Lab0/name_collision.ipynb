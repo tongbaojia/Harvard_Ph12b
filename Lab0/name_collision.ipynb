{
 "cells": [
   {
   "cell_type": "markdown",
   "metadata": {},
   "source": [
    "Tony Tong. For Harvard Ph12b 2017. "
   ]
  },
  {
   "cell_type": "code",
   "execution_count": null,
   "metadata": {
    "collapsed": false
   },
   "outputs": [],
   "source": ["# name_collision.py\n# -------------------------------------------------------------------------\n# Demonstrate how Python's rules of scope prevent name collisions.\n# ------------------------------------------------------------------------- \n\ndef name_collisions():\n\tx, y = 'E', 'E'\n\tdef display():\n\t\tx = 'L'\n\t\tprint( \"Inside display() ...\" )\n\t\tprint( \"x= {}\\ny= {}\\nz= {}\".format(x,y,z) )\n\tdisplay()\n\tprint( \"Inside name_collision() ...\" )\n\tprint( \"x= {}\\ny= {}\\nz= {}\".format(x,y,z) )\n\nx, y, z = 'G', 'G', 'G'\nname_collisions()\nprint( \"Outside function ...\" )\nprint( \"x= {}\\ny= {}\\nz= {}\".format(x,y,z) )\n"]
  }
 ],
 "metadata": {
  "kernelspec": {
   "display_name": "Python 3",
   "language": "python",
   "name": "python3"
  },
  "language_info": {
   "codemirror_mode": {
    "name": "ipython",
    "version": 3
   },
   "file_extension": ".py",
   "mimetype": "text/x-python",
   "name": "python",
   "nbconvert_exporter": "python",
   "pygments_lexer": "ipython3",
   "version": "3.6.1"
  }
 },
 "nbformat": 4,
 "nbformat_minor": 2
}