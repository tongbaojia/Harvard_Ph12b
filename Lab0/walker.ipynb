{
 "cells": [
   {
   "cell_type": "markdown",
   "metadata": {},
   "source": [
    "Tony Tong. For Harvard Ph12b 2017. "
   ]
  },
  {
   "cell_type": "code",
   "execution_count": null,
   "metadata": {
    "collapsed": false
   },
   "outputs": [],
   "source": ["# walker.py (Python 3.4)\n# Jesse M. Kinder -- 2014 Nov 16\n\"\"\" Make a movie out of the steps of a two-dimensional random walk. \"\"\"\nimport numpy as np\nimport matplotlib.pyplot as plt\nfrom matplotlib import animation\nfrom numpy.random import random as rand\n\n# Set number of steps for each random walk.\nnum_steps = 100\n\n# Create an empty figure of the desired size.\nbound = 20\nfig = plt.figure() \t\t# must have figure object for movie\nax = plt.axes(xlim=(-bound, bound), ylim=(-bound, bound))\n\n# Create a line and a point with no data.  They will be updated during each\n# frame of the animation.\n(my_line,) = ax.plot([], [], lw=2)\t\t\t\t# line to show path\n(my_point,) = ax.plot([], [], 'ro', ms=9)\t\t# dot to show current position\n\n# Generate the random walk data.\nx_steps = 2*(rand(num_steps) < 0.5) - 1\t\t# generate random steps +/- 1\ny_steps = 2*(rand(num_steps) < 0.5) - 1\nx_coordinate = x_steps.cumsum()\t\t\t\t# sum steps to get position\ny_coordinate = y_steps.cumsum()\n\n# This function will generate each frame of the animation.\n# It adds all of the data through frame n to a line\n# and moves a point to the nth position of the walk.\ndef get_step(n, x, y, this_line, this_point):\n\tthis_line.set_data(x[:n+1], y[:n+1])\n\tthis_point.set_data(x[n], y[n])\n\n# Call the animator and create the movie.\nmy_movie = animation.FuncAnimation(fig, get_step, frames=num_steps, \\\n\t\t\t\t\tfargs=(x_coordinate,y_coordinate,my_line,my_point) )\n\n# Save the movie in the current directory.\n# *** THIS WILL CAUSE AN ERROR UNLESS FFMPEG OR MENCODER IS INSTALLED. ***\n# my_movie.save('random_walk.mp4', fps=30)\n"]
  }
 ],
 "metadata": {
  "kernelspec": {
   "display_name": "Python 3",
   "language": "python",
   "name": "python3"
  },
  "language_info": {
   "codemirror_mode": {
    "name": "ipython",
    "version": 3
   },
   "file_extension": ".py",
   "mimetype": "text/x-python",
   "name": "python",
   "nbconvert_exporter": "python",
   "pygments_lexer": "ipython3",
   "version": "3.6.1"
  }
 },
 "nbformat": 4,
 "nbformat_minor": 2
}