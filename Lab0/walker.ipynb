{
 "cells": [
  {
   "cell_type": "markdown",
   "metadata": {},
   "source": [
    "Tony Tong. For Harvard Ph12b 2017. "
   ]
  },
  {
   "cell_type": "code",
   "execution_count": 5,
   "metadata": {},
   "outputs": [],
   "source": [
    "# walker.py (Python 3.4)\n",
    "# Jesse M. Kinder -- 2014 Nov 16\n",
    "\"\"\" Make a movie out of the steps of a two-dimensional random walk. \"\"\"\n",
    "import numpy as np\n",
    "import matplotlib.pyplot as plt\n",
    "from matplotlib import animation\n",
    "from numpy.random import random as rand\n",
    "\n",
    "# Set number of steps for each random walk.\n",
    "num_steps = 100\n",
    "\n",
    "# Create an empty figure of the desired size.\n",
    "bound = 20\n",
    "fig = plt.figure() \t\t# must have figure object for movie\n",
    "ax = plt.axes(xlim=(-bound, bound), ylim=(-bound, bound))\n",
    "\n",
    "# Create a line and a point with no data.  They will be updated during each\n",
    "# frame of the animation.\n",
    "(my_line,) = ax.plot([], [], lw=2)\t\t\t\t# line to show path\n",
    "(my_point,) = ax.plot([], [], 'ro', ms=9)\t\t# dot to show current position\n",
    "\n",
    "# Generate the random walk data.\n",
    "x_steps = 2*(rand(num_steps) < 0.5) - 1\t\t# generate random steps +/- 1\n",
    "y_steps = 2*(rand(num_steps) < 0.5) - 1\n",
    "x_coordinate = x_steps.cumsum()\t\t\t\t# sum steps to get position\n",
    "y_coordinate = y_steps.cumsum()\n",
    "\n",
    "# This function will generate each frame of the animation.\n",
    "# It adds all of the data through frame n to a line\n",
    "# and moves a point to the nth position of the walk.\n",
    "def get_step(n, x, y, this_line, this_point):\n",
    "\tthis_line.set_data(x[:n+1], y[:n+1])\n",
    "\tthis_point.set_data(x[n], y[n])\n",
    "\n",
    "# Call the animator and create the movie.\n",
    "my_movie = animation.FuncAnimation(fig, get_step, frames=num_steps, \\\n",
    "\t\t\t\t\tfargs=(x_coordinate,y_coordinate,my_line,my_point) )\n",
    "\n",
    "# Save the movie in the current directory.\n",
    "# *** THIS WILL CAUSE AN ERROR UNLESS FFMPEG OR MENCODER IS INSTALLED. ***\n",
    "# my_movie.save('random_walk.mp4', fps=30)\n"
   ]
  },
  {
   "cell_type": "code",
   "execution_count": 12,
   "metadata": {},
   "outputs": [
    {
     "data": {
      "text/plain": [
       "<matplotlib.figure.Figure at 0x10999ed68>"
      ]
     },
     "metadata": {},
     "output_type": "display_data"
    },
    {
     "data": {
      "image/png": "[encoded data removed]",
      "text/plain": [
       "<matplotlib.figure.Figure at 0x10999ea90>"
      ]
     },
     "metadata": {},
     "output_type": "display_data"
    }
   ],
   "source": [
    "plt.clf()\n",
    "plt.figure(figsize=(10,10))\n",
    "plt.plot(x_coordinate, y_coordinate, 'b.', ms=16)\n",
    "plt.axis([-20,20,-20,20])\n",
    "plt.grid(b=True,which='major',ls='-',lw=1.5,c='g')\n",
    "#plt.xlabel('$\\\\Delta x$ [$\\\\mu$m]', fontsize=24)\n",
    "#plt.ylabel('$\\\\Delta y$ [$\\\\mu$m]', fontsize=24)\n",
    "ax=plt.gca()\n",
    "#ax.set_xticklabels(ax.get_xticks(), weight='bold', fontsize=16)\n",
    "#ax.set_yticklabels(ax.get_yticks(), weight='bold', fontsize=16)\n",
    "plt.show()"
   ]
  },
  {
   "cell_type": "code",
   "execution_count": null,
   "metadata": {
    "collapsed": true
   },
   "outputs": [],
   "source": []
  }
 ],
 "metadata": {
  "kernelspec": {
   "display_name": "Python 3",
   "language": "python",
   "name": "python3"
  },
  "language_info": {
   "codemirror_mode": {
    "name": "ipython",
    "version": 3
   },
   "file_extension": ".py",
   "mimetype": "text/x-python",
   "name": "python",
   "nbconvert_exporter": "python",
   "pygments_lexer": "ipython3",
   "version": "3.6.1"
  }
 },
 "nbformat": 4,
 "nbformat_minor": 2
}
