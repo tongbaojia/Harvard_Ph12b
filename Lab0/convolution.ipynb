{
 "cells": [
   {
   "cell_type": "markdown",
   "metadata": {},
   "source": [
    "Tony Tong. For Harvard Ph12b 2017. "
   ]
  },
  {
   "cell_type": "code",
   "execution_count": null,
   "metadata": {
    "collapsed": false
   },
   "outputs": [],
   "source": ["# convolution.py\n# -------------------------------------------------------------------------\n# This script creates an eLoG (elongated Laplacian of Gaussian) filter that\n# emphasizes long, vertical lines in a figure.  The effect of the filter is\n# demonstrated on a plus sign.\n# ------------------------------------------------------------------------- \nimport numpy as np\nimport matplotlib.pyplot as plt\nimport scipy.ndimage as sim\n\n#%% Create a grid of points for the Gaussian filter.\nv = np.arange(-25, 26)\nX, Y = np.meshgrid(v, v)\n\n#%% Create elongated Gaussian filter, apply Laplacian.\ngauss_filter = np.exp(-0.5*(X**2/2 + Y**2/45))\nlaplace_filter = np.array( [[0, -1, 0], [-1, 4, -1], [0, -1, 0]])\ncombined_filter  = sim.convolve(gauss_filter, laplace_filter)\n\n#%% Create a plus sign '+' to demonstrate effect of filter.\nplus = np.zeros((51, 51))\nplus[23:28, 25] = 1.0\nplus[25, 23:28] = 1.0\n\nplt.figure()\nplt.imshow(plus)\nplt.gray()\n\n#%%\tApply filter to '+' and display resulting image.\n#\tUse vmin/vmax to emphasize features within a restricted range of intensity.\ncplus = sim.convolve(plus, combined_filter)\n\nplt.figure()\nplt.imshow(cplus, vmin=0, vmax=0.5*cplus.max())\nplt.gray()\n\nplt.show()\n"]
  }
 ],
 "metadata": {
  "kernelspec": {
   "display_name": "Python 3",
   "language": "python",
   "name": "python3"
  },
  "language_info": {
   "codemirror_mode": {
    "name": "ipython",
    "version": 3
   },
   "file_extension": ".py",
   "mimetype": "text/x-python",
   "name": "python",
   "nbconvert_exporter": "python",
   "pygments_lexer": "ipython3",
   "version": "3.6.1"
  }
 },
 "nbformat": 4,
 "nbformat_minor": 2
}