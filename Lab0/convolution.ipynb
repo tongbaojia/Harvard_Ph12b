{
 "cells": [
  {
   "cell_type": "markdown",
   "metadata": {},
   "source": [
    "Tony Tong. For Harvard Ph12b 2017. "
   ]
  },
  {
   "cell_type": "code",
   "execution_count": 8,
   "metadata": {},
   "outputs": [
    {
     "data": {
      "image/png": "[encoded data removed]",
      "text/plain": [
       "<matplotlib.figure.Figure at 0x10dd0d6d8>"
      ]
     },
     "metadata": {},
     "output_type": "display_data"
    },
    {
     "data": {
      "image/png": "[encoded data removed]",
      "text/plain": [
       "<matplotlib.figure.Figure at 0x10c1aa668>"
      ]
     },
     "metadata": {},
     "output_type": "display_data"
    }
   ],
   "source": [
    "# convolution.py\n",
    "# -------------------------------------------------------------------------\n",
    "# This script creates an eLoG (elongated Laplacian of Gaussian) filter that\n",
    "# emphasizes long, vertical lines in a figure.  The effect of the filter is\n",
    "# demonstrated on a plus sign.\n",
    "# \n",
    "# This can be pretty fun!!!\n",
    "# ------------------------------------------------------------------------- \n",
    "import numpy as np\n",
    "import matplotlib.pyplot as plt\n",
    "import scipy.ndimage as sim\n",
    "\n",
    "#%% Create a grid of points for the Gaussian filter.\n",
    "v = np.arange(-25, 26)\n",
    "X, Y = np.meshgrid(v, v)\n",
    "\n",
    "#%% Create elongated Gaussian filter, apply Laplacian.\n",
    "##for smearing, try commenting it out or change the resolution\n",
    "gauss_filter = np.exp(-0.5*(X**2/2 + Y**2/2)) \n",
    "##https://en.wikipedia.org/wiki/Discrete_Laplace_operator\n",
    "##for local linear transformation\n",
    "laplace_filter = np.array( [[0, -1, 0], [-1, 4, -1], [0, -1, 0]])\n",
    "laplace_filter = np.array( [[1, 1, 1], [1, -8, 1], [1, 1, 1]]) ##another one\n",
    "combined_filter  = sim.convolve(gauss_filter, laplace_filter)\n",
    "\n",
    "#%% Create a plus sign '+' to demonstrate effect of filter.\n",
    "plus = np.zeros((51, 51))\n",
    "plus[23:28, 25] = 1.0\n",
    "plus[25, 23:28] = 1.0\n",
    "\n",
    "plt.figure()\n",
    "plt.imshow(plus)\n",
    "plt.gray()\n",
    "\n",
    "#%%\tApply filter to '+' and display resulting image.\n",
    "#\tUse vmin/vmax to emphasize features within a restricted range of intensity.\n",
    "cplus = sim.convolve(plus, combined_filter)\n",
    "\n",
    "plt.figure()\n",
    "plt.imshow(cplus, vmin=0, vmax=0.5*cplus.max())\n",
    "plt.gray()\n",
    "\n",
    "plt.show()\n"
   ]
  },
  {
   "cell_type": "code",
   "execution_count": null,
   "metadata": {
    "collapsed": true
   },
   "outputs": [],
   "source": []
  }
 ],
 "metadata": {
  "kernelspec": {
   "display_name": "Python 3",
   "language": "python",
   "name": "python3"
  },
  "language_info": {
   "codemirror_mode": {
    "name": "ipython",
    "version": 3
   },
   "file_extension": ".py",
   "mimetype": "text/x-python",
   "name": "python",
   "nbconvert_exporter": "python",
   "pygments_lexer": "ipython3",
   "version": "3.6.1"
  }
 },
 "nbformat": 4,
 "nbformat_minor": 2
}
