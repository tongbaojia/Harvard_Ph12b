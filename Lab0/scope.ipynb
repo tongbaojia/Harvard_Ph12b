{
 "cells": [
  {
   "cell_type": "markdown",
   "metadata": {},
   "source": [
    "Tony Tong. For Harvard Ph12b 2017. "
   ]
  },
  {
   "cell_type": "code",
   "execution_count": 1,
   "metadata": {},
   "outputs": [
    {
     "name": "stdout",
     "output_type": "stream",
     "text": [
      "Local --> L\n",
      "Enclosing --> E\n",
      "Global --> G\n",
      "Built-in --> <built-in function abs>\n"
     ]
    }
   ],
   "source": [
    "# scope.py \n",
    "# -------------------------------------------------------------------------\n",
    "# Demonstrate Python's rules of scope.\n",
    "# ------------------------------------------------------------------------- \n",
    "\n",
    "def illustrate_scope():\n",
    "\ts_enclosing = 'E'\n",
    "\tdef display():\n",
    "\t\ts_local = 'L'\n",
    "\t\tprint( \"Local --> {}\".format(s_local) )\n",
    "\t\tprint( \"Enclosing --> {}\".format(s_enclosing) )\n",
    "\t\tprint( \"Global --> {}\".format(s_global) )\n",
    "\t\tprint( \"Built-in --> {}\".format(abs) )\n",
    "\tdisplay()\n",
    "\n",
    "s_global = 'G'\n",
    "\n",
    "illustrate_scope()\n"
   ]
  },
  {
   "cell_type": "code",
   "execution_count": null,
   "metadata": {
    "collapsed": true
   },
   "outputs": [],
   "source": []
  }
 ],
 "metadata": {
  "kernelspec": {
   "display_name": "Python 3",
   "language": "python",
   "name": "python3"
  },
  "language_info": {
   "codemirror_mode": {
    "name": "ipython",
    "version": 3
   },
   "file_extension": ".py",
   "mimetype": "text/x-python",
   "name": "python",
   "nbconvert_exporter": "python",
   "pygments_lexer": "ipython3",
   "version": "3.6.1"
  }
 },
 "nbformat": 4,
 "nbformat_minor": 2
}
