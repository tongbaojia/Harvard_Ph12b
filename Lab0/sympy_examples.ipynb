{
 "cells": [
   {
   "cell_type": "markdown",
   "metadata": {},
   "source": [
    "Tony Tong. For Harvard Ph12b 2017. "
   ]
  },
  {
   "cell_type": "code",
   "execution_count": null,
   "metadata": {
    "collapsed": false
   },
   "outputs": [],
   "source": ["# sympy_examples.py\n# -------------------------------------------------------------------------\n# Demonstrate some useful methods available in the SymPy module.\n# ------------------------------------------------------------------------- \nfrom sympy import *\ninit_session()\n\nexpand( (x + y)**5 )\nfactor( x**6 - 1 )\npi.n(100)\nplot(besselj(0, x), besselj(1, x), (x, 0, 10))\ndiff( x*sin(y), x, y )\nintegrate(cos(x)**2, x)\nintegrate(exp(-x**2), (x, -oo, oo))\nSum(k**3, (k, 0, m)).doit().factor()\ndsolve(f(x).diff(x) + f(x) - x, f(x)).simplify()\n"]
  }
 ],
 "metadata": {
  "kernelspec": {
   "display_name": "Python 3",
   "language": "python",
   "name": "python3"
  },
  "language_info": {
   "codemirror_mode": {
    "name": "ipython",
    "version": 3
   },
   "file_extension": ".py",
   "mimetype": "text/x-python",
   "name": "python",
   "nbconvert_exporter": "python",
   "pygments_lexer": "ipython3",
   "version": "3.6.1"
  }
 },
 "nbformat": 4,
 "nbformat_minor": 2
}