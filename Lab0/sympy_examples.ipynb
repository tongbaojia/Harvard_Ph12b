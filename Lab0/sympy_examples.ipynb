{
 "cells": [
  {
   "cell_type": "markdown",
   "metadata": {},
   "source": [
    "Tony Tong. For Harvard Ph12b 2017. "
   ]
  },
  {
   "cell_type": "code",
   "execution_count": 14,
   "metadata": {},
   "outputs": [
    {
     "data": {
      "image/png": "[encoded data removed]",
      "text/latex": [
       "$$f{\\left (x \\right )} = C_{1} e^{- x} + x - 1$$"
      ],
      "text/plain": [
       "           -x        \n",
       "f(x) = C₁⋅ℯ   + x - 1"
      ]
     },
     "execution_count": 14,
     "metadata": {},
     "output_type": "execute_result"
    }
   ],
   "source": [
    "# sympy_examples.py\n",
    "# -------------------------------------------------------------------------\n",
    "# Demonstrate some useful methods available in the SymPy module.\n",
    "# http://www.sympy.org/en/index.html\n",
    "# SymPy is a Python library for symbolic mathematics. \n",
    "# It aims to become a full-featured computer algebra system (CAS) \n",
    "# while keeping the code as simple as possible in order to be comprehensible and easily extensible. \n",
    "# SymPy is written entirely in Python.\n",
    "# ------------------------------------------------------------------------- \n",
    "from sympy import *\n",
    "#init_session()\n",
    "\n",
    "#expand( (x + y)**5 )\n",
    "#factor( x**6 - 1 )\n",
    "#pi.n(100)\n",
    "#plot(besselj(0, x), besselj(1, x), (x, 0, 10))\n",
    "#diff( x*sin(y), x, y )\n",
    "#integrate(cos(x)**2, x)\n",
    "#integrate(exp(-x**2), (x, -oo, oo))\n",
    "#Sum(k**3, (k, 0, m)).doit().factor()\n",
    "dsolve(f(x).diff(x) + f(x) - x, f(x)).simplify()"
   ]
  },
  {
   "cell_type": "code",
   "execution_count": null,
   "metadata": {
    "collapsed": true
   },
   "outputs": [],
   "source": []
  }
 ],
 "metadata": {
  "kernelspec": {
   "display_name": "Python 3",
   "language": "python",
   "name": "python3"
  },
  "language_info": {
   "codemirror_mode": {
    "name": "ipython",
    "version": 3
   },
   "file_extension": ".py",
   "mimetype": "text/x-python",
   "name": "python",
   "nbconvert_exporter": "python",
   "pygments_lexer": "ipython3",
   "version": "3.6.1"
  }
 },
 "nbformat": 4,
 "nbformat_minor": 2
}
