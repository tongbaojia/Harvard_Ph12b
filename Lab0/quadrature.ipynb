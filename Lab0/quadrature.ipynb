{
 "cells": [
   {
   "cell_type": "markdown",
   "metadata": {},
   "source": [
    "Tony Tong. For Harvard Ph12b 2017. "
   ]
  },
  {
   "cell_type": "code",
   "execution_count": null,
   "metadata": {
    "collapsed": false
   },
   "outputs": [],
   "source": ["# quadrature.py\n# -------------------------------------------------------------------------\n# Integrate two functions using quad.\n# ------------------------------------------------------------------------- \nimport numpy as np\nfrom scipy.integrate import quad\n\n#%% Integrate a built-in function.\nupper_limit = np.linspace(0,3*np.pi,16)\ncos_integral = np.zeros(upper_limit.size)\nfor i in range(upper_limit.size):\n    cos_integral[i], error = quad(np.cos, 0, upper_limit[i])\n\n#%% Now integrate a user-defined function.\ndef integrand(x): return np.exp(-x**2/2)\n\nupper_limit = np.linspace(0, 5, 51)\ngauss_integral = np.zeros(upper_limit.size)\nfor i in range(upper_limit.size):\n    gauss_integral[i], error = quad(integrand, 0, upper_limit[i])\n"]
  }
 ],
 "metadata": {
  "kernelspec": {
   "display_name": "Python 3",
   "language": "python",
   "name": "python3"
  },
  "language_info": {
   "codemirror_mode": {
    "name": "ipython",
    "version": 3
   },
   "file_extension": ".py",
   "mimetype": "text/x-python",
   "name": "python",
   "nbconvert_exporter": "python",
   "pygments_lexer": "ipython3",
   "version": "3.6.1"
  }
 },
 "nbformat": 4,
 "nbformat_minor": 2
}