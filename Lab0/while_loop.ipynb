{
 "cells": [
  {
   "cell_type": "markdown",
   "metadata": {},
   "source": [
    "Tony Tong. For Harvard Ph12b 2017. "
   ]
  },
  {
   "cell_type": "code",
   "execution_count": 4,
   "metadata": {},
   "outputs": [
    {
     "name": "stdout",
     "output_type": "stream",
     "text": [
      "a = 2.0000, x = 0.3660\n",
      "a = 1.7000, x = 0.3783\n",
      "a = 1.4000, x = 0.3923\n",
      "a = 1.1000, x = 0.4083\n",
      "a = 0.8000, x = 0.4271\n",
      "a = 0.5000, x = 0.4495\n",
      "a = 0.2000, x = 0.4772\n",
      "a = -0.1000, x = 0.5132\n",
      "a = -0.4000, x = 0.5635\n",
      "a = -0.7000, x = 0.6461\n",
      "done!\n"
     ]
    }
   ],
   "source": [
    "# while_loop.py\n",
    "# -------------------------------------------------------------------------\n",
    "# Use a while loop to generate multiple solutions to the quadratic equation.\n",
    "# ------------------------------------------------------------------------- \n",
    "import numpy as np\n",
    "\n",
    "a, b, c = 2, 2, -1\n",
    "while (b**2 - 4*a*c >= 0): #solution exist\n",
    "\tx = (-b + np.sqrt(b**2 - 4*a*c)) / (2*a)\n",
    "\tprint(\"a = {:.4f}, x = {:.4f}\".format(a,x))\n",
    "\t#print(b**2 - 4*a*c)\n",
    "\ta = a - 0.3\n",
    "print(\"done!\")\n"
   ]
  },
  {
   "cell_type": "code",
   "execution_count": null,
   "metadata": {
    "collapsed": true
   },
   "outputs": [],
   "source": []
  }
 ],
 "metadata": {
  "kernelspec": {
   "display_name": "Python 3",
   "language": "python",
   "name": "python3"
  },
  "language_info": {
   "codemirror_mode": {
    "name": "ipython",
    "version": 3
   },
   "file_extension": ".py",
   "mimetype": "text/x-python",
   "name": "python",
   "nbconvert_exporter": "python",
   "pygments_lexer": "ipython3",
   "version": "3.6.1"
  }
 },
 "nbformat": 4,
 "nbformat_minor": 2
}
