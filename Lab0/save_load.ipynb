{
 "cells": [
   {
   "cell_type": "markdown",
   "metadata": {},
   "source": [
    "Tony Tong. For Harvard Ph12b 2017. "
   ]
  },
  {
   "cell_type": "code",
   "execution_count": null,
   "metadata": {
    "collapsed": false
   },
   "outputs": [],
   "source": ["# numpy_saves.py\n# -------------------------------------------------------------------------\n# Save array data using NumPy's available methods, then load saved data.\n# ------------------------------------------------------------------------- \nimport numpy as np\n\n# Generate array data.\nx = np.linspace(0, 1, 1001)\ny = 3*np.sin(x)**3 - np.sin(x)\n\n# Save data to text, .npy, and .npz files.\nnp.save('x_values', x)\nnp.save('y_values', y)\nnp.savetxt('x_values.dat', x)\nnp.savetxt('y_values.dat', y)\nnp.savez('xy_values', x_vals=x, y_vals=y) \n\n# Load saved data.\nx2 = np.load('x_values.npy')\ny2 = np.loadtxt('y_values.dat')\nw = np.load('xy_values.npz')\n\n# Check equality of original and saved data.\nprint((x2 == x).all())\nprint((y2 == y).all())\nprint((w['x_vals'] == x2).all())\nprint((w['y_vals'] == y2).all())\n"]
  }
 ],
 "metadata": {
  "kernelspec": {
   "display_name": "Python 3",
   "language": "python",
   "name": "python3"
  },
  "language_info": {
   "codemirror_mode": {
    "name": "ipython",
    "version": 3
   },
   "file_extension": ".py",
   "mimetype": "text/x-python",
   "name": "python",
   "nbconvert_exporter": "python",
   "pygments_lexer": "ipython3",
   "version": "3.6.1"
  }
 },
 "nbformat": 4,
 "nbformat_minor": 2
}