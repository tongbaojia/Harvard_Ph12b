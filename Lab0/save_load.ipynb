{
 "cells": [
  {
   "cell_type": "markdown",
   "metadata": {},
   "source": [
    "Tony Tong. For Harvard Ph12b 2017. "
   ]
  },
  {
   "cell_type": "code",
   "execution_count": 1,
   "metadata": {},
   "outputs": [
    {
     "name": "stdout",
     "output_type": "stream",
     "text": [
      "True\n",
      "True\n",
      "True\n",
      "True\n"
     ]
    }
   ],
   "source": [
    "# numpy_saves.py\n",
    "# -------------------------------------------------------------------------\n",
    "# Save array data using NumPy's available methods, then load saved data.\n",
    "# ------------------------------------------------------------------------- \n",
    "import numpy as np\n",
    "\n",
    "# Generate array data.\n",
    "x = np.linspace(0, 1, 1001)\n",
    "y = 3*np.sin(x)**3 - np.sin(x)\n",
    "\n",
    "# Save data to text, .npy, and .npz files.\n",
    "np.save('x_values', x)\n",
    "np.save('y_values', y)\n",
    "np.savetxt('x_values.dat', x)\n",
    "np.savetxt('y_values.dat', y)\n",
    "np.savez('xy_values', x_vals=x, y_vals=y) \n",
    "\n",
    "# Load saved data.\n",
    "x2 = np.load('x_values.npy')\n",
    "y2 = np.loadtxt('y_values.dat')\n",
    "w = np.load('xy_values.npz')\n",
    "\n",
    "# Check equality of original and saved data.\n",
    "print((x2 == x).all())\n",
    "print((y2 == y).all())\n",
    "print((w['x_vals'] == x2).all())\n",
    "print((w['y_vals'] == y2).all())\n"
   ]
  },
  {
   "cell_type": "code",
   "execution_count": null,
   "metadata": {
    "collapsed": true
   },
   "outputs": [],
   "source": []
  }
 ],
 "metadata": {
  "kernelspec": {
   "display_name": "Python 3",
   "language": "python",
   "name": "python3"
  },
  "language_info": {
   "codemirror_mode": {
    "name": "ipython",
    "version": 3
   },
   "file_extension": ".py",
   "mimetype": "text/x-python",
   "name": "python",
   "nbconvert_exporter": "python",
   "pygments_lexer": "ipython3",
   "version": "3.6.1"
  }
 },
 "nbformat": 4,
 "nbformat_minor": 2
}
