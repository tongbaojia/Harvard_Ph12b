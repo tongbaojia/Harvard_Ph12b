{
 "cells": [
   {
   "cell_type": "markdown",
   "metadata": {},
   "source": [
    "Tony Tong. For Harvard Ph12b 2017. "
   ]
  },
  {
   "cell_type": "code",
   "execution_count": null,
   "metadata": {
    "collapsed": false
   },
   "outputs": [],
   "source": ["# string_format.py  (Python 3.4)\n# -------------------------------------------------------------------------\n# Illustrate formatting strings using the .format() method.\n# ------------------------------------------------------------------------- \nimport numpy as np\n\nprint(\"The value of pi is approximately \" + str(np.pi))\nprint(\"The value of {} is approximately {:.5f}\".format('pi', np.pi))\n\ns = \"{1:d} plus {0:d} is {2:d}\"\nprint(s.format(2,4,2+4))\n\nprint(\"Every {2} has its {3}.\".format('dog','day','rose','thorn'))\nprint(\"The third element of the list is {0[2]:g}.\".format(np.arange(10)))\n"]
  }
 ],
 "metadata": {
  "kernelspec": {
   "display_name": "Python 3",
   "language": "python",
   "name": "python3"
  },
  "language_info": {
   "codemirror_mode": {
    "name": "ipython",
    "version": 3
   },
   "file_extension": ".py",
   "mimetype": "text/x-python",
   "name": "python",
   "nbconvert_exporter": "python",
   "pygments_lexer": "ipython3",
   "version": "3.6.1"
  }
 },
 "nbformat": 4,
 "nbformat_minor": 2
}