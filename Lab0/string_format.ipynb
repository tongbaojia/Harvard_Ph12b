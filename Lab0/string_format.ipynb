{
 "cells": [
  {
   "cell_type": "markdown",
   "metadata": {},
   "source": [
    "Tony Tong. For Harvard Ph12b 2017. "
   ]
  },
  {
   "cell_type": "code",
   "execution_count": 3,
   "metadata": {},
   "outputs": [
    {
     "name": "stdout",
     "output_type": "stream",
     "text": [
      "The value of pi is approximately 3.141592653589793\n",
      "The value of pi is approximately 3.14159\n",
      "4 plus 2 is 6\n",
      "Every rose has its thorn.\n",
      "The third element of the list is 2.\n"
     ]
    }
   ],
   "source": [
    "# string_format.py  (Python 3.4)\n",
    "# -------------------------------------------------------------------------\n",
    "# Illustrate formatting strings using the .format() method.\n",
    "# ------------------------------------------------------------------------- \n",
    "import numpy as np\n",
    "\n",
    "print(\"The value of pi is approximately \" + str(np.pi))\n",
    "print(\"The value of {} is approximately {:.5f}\".format('pi', np.pi))\n",
    "\n",
    "s = \"{1:d} plus {0:d} is {2:d}\"\n",
    "print(s.format(2,4,2+4))\n",
    "\n",
    "print(\"Every {2} has its {3}.\".format('dog','day','rose','thorn'))\n",
    "print(\"The third element of the list is {0[2]:g}.\".format(np.arange(10)))\n"
   ]
  },
  {
   "cell_type": "code",
   "execution_count": null,
   "metadata": {
    "collapsed": true
   },
   "outputs": [],
   "source": []
  }
 ],
 "metadata": {
  "kernelspec": {
   "display_name": "Python 3",
   "language": "python",
   "name": "python3"
  },
  "language_info": {
   "codemirror_mode": {
    "name": "ipython",
    "version": 3
   },
   "file_extension": ".py",
   "mimetype": "text/x-python",
   "name": "python",
   "nbconvert_exporter": "python",
   "pygments_lexer": "ipython3",
   "version": "3.6.1"
  }
 },
 "nbformat": 4,
 "nbformat_minor": 2
}
