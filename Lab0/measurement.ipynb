{
 "cells": [
   {
   "cell_type": "markdown",
   "metadata": {},
   "source": [
    "Tony Tong. For Harvard Ph12b 2017. "
   ]
  },
  {
   "cell_type": "code",
   "execution_count": null,
   "metadata": {
    "collapsed": false
   },
   "outputs": [],
   "source": ["# measurement.py\n\"\"\"\nFunctions to calculate distance between points using different metrics.\n\"\"\"\n\nimport numpy as np\n\ndef crow(pointA, pointB):\n\t\"\"\"\n\tDistance between points A and B \"as the crow flies.\"\n\t\tpointA = (x1, y1)\n\t\tpointB = (x2, y2)\n\treturns sqrt( (x2-x1)**2 + (y2-y1)**2 )\n\t\"\"\"\n\tinterval = np.sqrt( (pointA[0] - pointB[0])**2 + \\\n\t\t\t\t\t\t(pointA[1] - pointB[1])**2 )\n\treturn interval\n\n\ndef taxicab(pointA, pointB):\n\t\"\"\"\n\tDistance between points A and B \"as the cab drives.\"\n\t\tpointA = (x1, y1)\n\t\tpointB = (x2, y2)\n\treturns |x2-x1| + |y2-y1|\n\t\"\"\"\n\tinterval =\tabs(pointB[0] - pointA[0]) + \\\n\t\t\t\tabs(pointB[1] - pointA[1])\n\treturn interval\n\ndef distance(pointA, pointB=(0,0), method='taxi'):\n\t\"\"\"\n\tReturn distance between points A and B. If method is 'taxi', use taxicab\n\tmetric. Otherwise, use Euclidean distance.\n\t\tpointA = (x1, y1)\n\t\tpointB = (x2, y2)\n\t\"\"\"\n\tif method == 'taxi':\n\t\treturn taxicab(pointA, pointB)\n\telse:\n\t\treturn crow(pointA, pointB)\n"]
  }
 ],
 "metadata": {
  "kernelspec": {
   "display_name": "Python 3",
   "language": "python",
   "name": "python3"
  },
  "language_info": {
   "codemirror_mode": {
    "name": "ipython",
    "version": 3
   },
   "file_extension": ".py",
   "mimetype": "text/x-python",
   "name": "python",
   "nbconvert_exporter": "python",
   "pygments_lexer": "ipython3",
   "version": "3.6.1"
  }
 },
 "nbformat": 4,
 "nbformat_minor": 2
}