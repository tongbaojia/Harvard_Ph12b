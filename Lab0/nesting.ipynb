{
 "cells": [
   {
   "cell_type": "markdown",
   "metadata": {},
   "source": [
    "Tony Tong. For Harvard Ph12b 2017. "
   ]
  },
  {
   "cell_type": "code",
   "execution_count": null,
   "metadata": {
    "collapsed": false
   },
   "outputs": [],
   "source": ["# nesting.py\n# -------------------------------------------------------------------------\n# Use nested for loops to fill a two-dimensional array of values.\n# ------------------------------------------------------------------------- \nimport numpy as np\n\n# Set dimensions of array.\nrows = 3\ncolumns = 4\n\n# Create empty array then fill with values.\nA = np.zeros((rows, columns))\nfor i in range(rows):\n    for j in range(columns):\n        A[i, j] = i**2 + j**3\n"]
  }
 ],
 "metadata": {
  "kernelspec": {
   "display_name": "Python 3",
   "language": "python",
   "name": "python3"
  },
  "language_info": {
   "codemirror_mode": {
    "name": "ipython",
    "version": 3
   },
   "file_extension": ".py",
   "mimetype": "text/x-python",
   "name": "python",
   "nbconvert_exporter": "python",
   "pygments_lexer": "ipython3",
   "version": "3.6.1"
  }
 },
 "nbformat": 4,
 "nbformat_minor": 2
}