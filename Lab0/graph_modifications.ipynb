{
 "cells": [
   {
   "cell_type": "markdown",
   "metadata": {},
   "source": [
    "Tony Tong. For Harvard Ph12b 2017. "
   ]
  },
  {
   "cell_type": "code",
   "execution_count": null,
   "metadata": {
    "collapsed": false
   },
   "outputs": [],
   "source": ["# graph_modifications.py\n# -------------------------------------------------------------------------\n# This script creates a simple plot with two lines, then modifies many\n# features of the plot, including axis labels, labels and legend, line\n# style, tick labels, and title.\n# ------------------------------------------------------------------------- \nimport numpy as np\nimport matplotlib.pyplot as plt\n\n# Generate data for plot.\nnum_points = 26\nx_min, x_max = 0, 4\nx_values = np.linspace(x_min, x_max, num_points)\ny_values = x_values**2\n\n# Create empty figure.\nplt.figure()\n\n# Plot data.\nplt.plot(x_values, y_values, label=\"Population 1\")\t\t# label when plot is created\nplt.plot(x_values, x_values**3, label=\"Population 2\")\t# label when plot is created\nplt.legend()\n\n# Gain control of current Axes object.\nax = plt.gca()\n\n# Give plot a title.\nax.set_title(\"My First Plot\", family='monospace', size=24, weight='bold')\n\n# Label the axes.\nax.set_xlabel(\"Time [days]\")\nax.set_ylabel(\"Population\")\n\n# Change tick labels and font\nax.set_xticklabels(ax.get_xticks(), family='monospace', fontsize=10)\nax.set_yticklabels(ax.get_yticks(), family='monospace', fontsize=10)\n\n# Change the legend\nlines = ax.get_lines()\t\t\t\t\t\t# returns a list of line objects\nlines[0].set_label(\"Infected Population\")\t# change labels using line objects\nlines[1].set_label(\"Cured Population\")\t\t# change labels using line objects\nax.legend()\t\t\t\t\t\t\t\t\t# display legend in plot\n\n# Make the first line a thick, red, dashed line.\nplt.setp(lines[0], linestyle='--', linewidth=3, color='r')\n\n# Change the legend again.\nax.legend((\"Healthy\", \"Recovered\"))\t\t\t# change labels using Axes object\n\nplt.show()\n"]
  }
 ],
 "metadata": {
  "kernelspec": {
   "display_name": "Python 3",
   "language": "python",
   "name": "python3"
  },
  "language_info": {
   "codemirror_mode": {
    "name": "ipython",
    "version": 3
   },
   "file_extension": ".py",
   "mimetype": "text/x-python",
   "name": "python",
   "nbconvert_exporter": "python",
   "pygments_lexer": "ipython3",
   "version": "3.6.1"
  }
 },
 "nbformat": 4,
 "nbformat_minor": 2
}