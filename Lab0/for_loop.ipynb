{
 "cells": [
   {
   "cell_type": "markdown",
   "metadata": {},
   "source": [
    "Tony Tong. For Harvard Ph12b 2017. "
   ]
  },
  {
   "cell_type": "code",
   "execution_count": null,
   "metadata": {
    "collapsed": false
   },
   "outputs": [],
   "source": ["# for_loop.py\n# -------------------------------------------------------------------------\n# Use a for loop to generate multiple solutions to the quadratic equation.\n# ------------------------------------------------------------------------- \nimport numpy as np\n\nb, c = 2, -1\nfor a in np.arange(-1, 2, 0.3):\n\tx = (-b + np.sqrt(b**2 - 4*a*c)) / (2*a)\n\tprint(\"a= {:.4f}, x= {:.4f}\".format(a,x))\n"]
  }
 ],
 "metadata": {
  "kernelspec": {
   "display_name": "Python 3",
   "language": "python",
   "name": "python3"
  },
  "language_info": {
   "codemirror_mode": {
    "name": "ipython",
    "version": 3
   },
   "file_extension": ".py",
   "mimetype": "text/x-python",
   "name": "python",
   "nbconvert_exporter": "python",
   "pygments_lexer": "ipython3",
   "version": "3.6.1"
  }
 },
 "nbformat": 4,
 "nbformat_minor": 2
}