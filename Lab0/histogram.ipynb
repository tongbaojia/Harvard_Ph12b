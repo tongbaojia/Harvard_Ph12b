{
 "cells": [
   {
   "cell_type": "markdown",
   "metadata": {},
   "source": [
    "Tony Tong. For Harvard Ph12b 2017. "
   ]
  },
  {
   "cell_type": "code",
   "execution_count": null,
   "metadata": {
    "collapsed": false
   },
   "outputs": [],
   "source": ["# histogram.py\n# -------------------------------------------------------------------------\n# Create histograms of random numbers.\n# ------------------------------------------------------------------------- \nimport numpy as np\nimport matplotlib.pyplot as plt\nfrom numpy.random import random as rng\n\n#%%\tGenerate data and view PyPlot's default histogram.\ndata = rng(1000)\n\nplt.figure()\nplt.hist(data)\n\n#%%\tGet binned data from NumPy and make a colorful histogram where the\n#\twidth of each bin is proportional to the number of elements in it.\ncounts, bin_edges = np.histogram(data)\nbin_size = bin_edges[1] - bin_edges[0]\nnew_widths =  bin_size * counts / counts.max()\n\nplt.figure()\nplt.bar(bin_edges[:-1], counts, width=new_widths, color=['r','g','b'])\n\n#%%\tProvide logarithmically spaced bin edges rather than using defaults.\nlog2bins = np.logspace(-8, 0, num=9, base=2)\nlog2bins[0] = 0.0\t\t\t# set first bin edge to zero instead of 1/256\n\nplt.figure()\nplt.hist(data, bins=log2bins)\n\nplt.show()\n"]
  }
 ],
 "metadata": {
  "kernelspec": {
   "display_name": "Python 3",
   "language": "python",
   "name": "python3"
  },
  "language_info": {
   "codemirror_mode": {
    "name": "ipython",
    "version": 3
   },
   "file_extension": ".py",
   "mimetype": "text/x-python",
   "name": "python",
   "nbconvert_exporter": "python",
   "pygments_lexer": "ipython3",
   "version": "3.6.1"
  }
 },
 "nbformat": 4,
 "nbformat_minor": 2
}