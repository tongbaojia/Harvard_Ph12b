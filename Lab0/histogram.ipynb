{
 "cells": [
  {
   "cell_type": "markdown",
   "metadata": {},
   "source": [
    "Tony Tong. For Harvard Ph12b 2017. "
   ]
  },
  {
   "cell_type": "code",
   "execution_count": 2,
   "metadata": {},
   "outputs": [
    {
     "data": {
      "image/png": "[encoded data removed]",
      "text/plain": [
       "<matplotlib.figure.Figure at 0x111669fd0>"
      ]
     },
     "metadata": {},
     "output_type": "display_data"
    },
    {
     "data": {
      "image/png": "[encoded data removed]",
      "text/plain": [
       "<matplotlib.figure.Figure at 0x11b3aca20>"
      ]
     },
     "metadata": {},
     "output_type": "display_data"
    },
    {
     "data": {
      "image/png": "[encoded data removed]",
      "text/plain": [
       "<matplotlib.figure.Figure at 0x11b43f6d8>"
      ]
     },
     "metadata": {},
     "output_type": "display_data"
    }
   ],
   "source": [
    "# histogram.py\n",
    "# -------------------------------------------------------------------------\n",
    "# Create histograms of random numbers.\n",
    "# ------------------------------------------------------------------------- \n",
    "import numpy as np\n",
    "import matplotlib.pyplot as plt\n",
    "from numpy.random import random as rng\n",
    "\n",
    "#%%\tGenerate data and view PyPlot's default histogram.\n",
    "data = rng(1000)\n",
    "\n",
    "plt.figure()\n",
    "plt.hist(data)\n",
    "\n",
    "#%%\tGet binned data from NumPy and make a colorful histogram where the\n",
    "#\twidth of each bin is proportional to the number of elements in it.\n",
    "counts, bin_edges = np.histogram(data)\n",
    "bin_size = bin_edges[1] - bin_edges[0]\n",
    "new_widths =  bin_size * counts / counts.max()\n",
    "\n",
    "plt.figure()\n",
    "plt.bar(bin_edges[:-1], counts, width=new_widths, color=['r','g','b']) ##alternating colors\n",
    "\n",
    "#%%\tProvide logarithmically spaced bin edges rather than using defaults.\n",
    "log2bins = np.logspace(-8, 0, num=18, base=2)\n",
    "log2bins[0] = 0.0\t\t\t# set first bin edge to zero instead of 1/256\n",
    "\n",
    "plt.figure()\n",
    "plt.hist(data, bins=log2bins)\n",
    "\n",
    "plt.show()\n"
   ]
  },
  {
   "cell_type": "code",
   "execution_count": null,
   "metadata": {
    "collapsed": true
   },
   "outputs": [],
   "source": []
  }
 ],
 "metadata": {
  "kernelspec": {
   "display_name": "Python 3",
   "language": "python",
   "name": "python3"
  },
  "language_info": {
   "codemirror_mode": {
    "name": "ipython",
    "version": 3
   },
   "file_extension": ".py",
   "mimetype": "text/x-python",
   "name": "python",
   "nbconvert_exporter": "python",
   "pygments_lexer": "ipython3",
   "version": "3.6.1"
  }
 },
 "nbformat": 4,
 "nbformat_minor": 2
}
