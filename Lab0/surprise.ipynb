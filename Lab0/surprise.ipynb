{
 "cells": [
   {
   "cell_type": "markdown",
   "metadata": {},
   "source": [
    "Tony Tong. For Harvard Ph12b 2017. "
   ]
  },
  {
   "cell_type": "code",
   "execution_count": null,
   "metadata": {
    "collapsed": false
   },
   "outputs": [],
   "source": ["# surprise.py\n# -------------------------------------------------------------------------\n# This script will create a familar but interesting image.\n# It may take about a minute to run.\n# ------------------------------------------------------------------------- \nimport numpy as np\nimport matplotlib.pyplot as plt\n\n# This determines the number of colors used in the plot.\n# The larger the value, the longer the script will take.\nmax_iterations = 32\n\n# These parameters define the boundaries of the plot\nx_min, x_max = -2.5, 1.5\ny_min, y_max = -1.5, 1.5\n\n# This parameter controls the grid spacing.  A smaller value gives better\n# resolution, but the script will take longer to run.\nds = 0.002\n\nX = np.arange(x_min, x_max + ds, ds)\nY = np.arange(y_min, y_max + ds, ds)\ndata = np.zeros( (X.size, Y.size), dtype='uint')\n\nfor i in range(X.size):\n\tfor j in range(Y.size):\n\t\tx0, y0 = X[i], Y[j]\n\t\tx, y = x0, y0\n\t\tcount = 0\n\t\twhile count < max_iterations:\n\t\t\t# Update x and y simultaneously.\n\t\t\tx, y = (x0 + x*x - y*y, y0 + 2*x*y)\n\t\t\t# Exit loop if (x,y) is too far from the origin.\n\t\t\tif (x*x + y*y) > 4.0: break\n\t\t\tcount += 1\n\t\tdata[i, j] = max_iterations - count\n\nplt.imshow(data.transpose(), interpolation='nearest', cmap='jet')\nplt.axis('off')\nplt.show()\n"]
  }
 ],
 "metadata": {
  "kernelspec": {
   "display_name": "Python 3",
   "language": "python",
   "name": "python3"
  },
  "language_info": {
   "codemirror_mode": {
    "name": "ipython",
    "version": 3
   },
   "file_extension": ".py",
   "mimetype": "text/x-python",
   "name": "python",
   "nbconvert_exporter": "python",
   "pygments_lexer": "ipython3",
   "version": "3.6.1"
  }
 },
 "nbformat": 4,
 "nbformat_minor": 2
}