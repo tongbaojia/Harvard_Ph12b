{
 "cells": [
   {
   "cell_type": "markdown",
   "metadata": {},
   "source": [
    "Tony Tong. For Harvard Ph12b 2017. "
   ]
  },
  {
   "cell_type": "code",
   "execution_count": null,
   "metadata": {
    "collapsed": false
   },
   "outputs": [],
   "source": ["# line3d.py\n# -------------------------------------------------------------------------\n# Create a three-dimensional parametric plot.\n# ------------------------------------------------------------------------- \nimport numpy as np\nimport matplotlib.pyplot as plt\nfrom mpl_toolkits.mplot3d import Axes3D\t\t# import 3D plotting tool\n\nfig = plt.figure()\t\t\t\t\t# create a new figure\nax = Axes3D(fig)\t\t\t\t\t# create 3D plotting object attached to figure\nt = np.linspace(0, 5*np.pi, 501)\t# define parameter for parametric plot\n\nax.plot(t * np.cos(t), t * np.sin(t), t)\t\t# generate 3D plot\nplt.show()\n"]
  }
 ],
 "metadata": {
  "kernelspec": {
   "display_name": "Python 3",
   "language": "python",
   "name": "python3"
  },
  "language_info": {
   "codemirror_mode": {
    "name": "ipython",
    "version": 3
   },
   "file_extension": ".py",
   "mimetype": "text/x-python",
   "name": "python",
   "nbconvert_exporter": "python",
   "pygments_lexer": "ipython3",
   "version": "3.6.1"
  }
 },
 "nbformat": 4,
 "nbformat_minor": 2
}