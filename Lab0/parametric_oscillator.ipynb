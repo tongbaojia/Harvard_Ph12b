{
 "cells": [
   {
   "cell_type": "markdown",
   "metadata": {},
   "source": [
    "Tony Tong. For Harvard Ph12b 2017. "
   ]
  },
  {
   "cell_type": "code",
   "execution_count": null,
   "metadata": {
    "collapsed": false
   },
   "outputs": [],
   "source": ["# parametric_oscillator.py\n# -------------------------------------------------------------------------\n# Define a parametric function that accepts 4 parameters then integrate it\n# using odeint.\n# ------------------------------------------------------------------------- \nimport numpy as np\nfrom scipy.integrate import odeint\n\ndef F(y, t, spring_constant=1.0, mass=1.0):\n\t\"\"\"\n\tReturn derivatives for harmonic oscillator:\n\t\ty'' = -(k/m) * y\n\ty = displacement in [m]\n\tk = spring_constant in [N/m]\n\tm = mass in [kg]\n\t\"\"\"\n\tdy = [0, 0]\t\t\t# array to store derivatives\n\tdy[0] = y[1]\t\t\n\tdy[1] = -(spring_constant/mass) * y[0]\t\n\treturn dy\n\n# -------------------------------------------------------------------------\n# Integrate parametric function using two different methods.\n# ------------------------------------------------------------------------- \ny0 = (1.0, 0.0)\t\t\t\t\t\t# initial conditions\nt = np.linspace(0, 10, 101)\t\t\t# times at which y(t) will be evaluated\n\n# Method 1 -- dummy function\ndef G(y, t): return F(y, t, 2.0, 0.5)\nyA = odeint(G, y0, t)\n\n# Method 2 -- keywords\nyB = odeint(F, y0, t, args=(2.0, 0.5))\n"]
  }
 ],
 "metadata": {
  "kernelspec": {
   "display_name": "Python 3",
   "language": "python",
   "name": "python3"
  },
  "language_info": {
   "codemirror_mode": {
    "name": "ipython",
    "version": 3
   },
   "file_extension": ".py",
   "mimetype": "text/x-python",
   "name": "python",
   "nbconvert_exporter": "python",
   "pygments_lexer": "ipython3",
   "version": "3.6.1"
  }
 },
 "nbformat": 4,
 "nbformat_minor": 2
}