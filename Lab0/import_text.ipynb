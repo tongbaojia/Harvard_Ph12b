{
 "cells": [
  {
   "cell_type": "markdown",
   "metadata": {},
   "source": [
    "Tony Tong. For Harvard Ph12b 2017. "
   ]
  },
  {
   "cell_type": "code",
   "execution_count": 1,
   "metadata": {},
   "outputs": [
    {
     "name": "stdout",
     "output_type": "stream",
     "text": [
      "0, 1.061e+05\n",
      "\n",
      "0.0831, 93240\n",
      "\n",
      "0.1465, 1.6672e+05\n",
      "\n",
      "0.2587, 1.5378e+05\n",
      "\n",
      "0.4828, 1.188e+05\n",
      "\n",
      "0.7448, 1.169e+05\n",
      "\n",
      "0.9817, 1.0957e+05\n",
      "\n",
      "1.2563, 1.1135e+05\n",
      "\n",
      "1.4926, 74388\n",
      "\n",
      "1.7299, 83291\n",
      "\n",
      "1.9915, 66435\n",
      "\n",
      "3.0011, 35408\n",
      "\n",
      "4.0109, 21125\n",
      "\n",
      "5.009, 20450\n",
      "\n",
      "5.9943, 15798\n",
      "\n",
      "7.0028, 4785.2\n",
      "\n"
     ]
    }
   ],
   "source": [
    "# import_text.py\n",
    "# -------------------------------------------------------------------------\n",
    "# Load data from a text file by reading the file line by line.\n",
    "# ------------------------------------------------------------------------- \n",
    "import numpy as np\n",
    "\n",
    "f = open(\"HIVseries.csv\")\n",
    "temp_data = []\n",
    "\n",
    "for line in f:\n",
    "\tprint(line)\n",
    "\tx,y = line.split(',')\n",
    "\ttemp_data += [ (float(x), float(y)) ]\n",
    "\n",
    "f.close()\n",
    "\n",
    "data_set = np.array(temp_data)\n"
   ]
  },
  {
   "cell_type": "code",
   "execution_count": 6,
   "metadata": {
    "collapsed": true
   },
   "outputs": [],
   "source": [
    "##or really, please use Pandas to read CSV files\n",
    "##Much better\n",
    "import pandas as pd\n",
    "df = pd.read_csv(\"HIVseries.csv\")"
   ]
  },
  {
   "cell_type": "code",
   "execution_count": 7,
   "metadata": {},
   "outputs": [
    {
     "data": {
      "text/html": [
       "<div>\n",
       "<style>\n",
       "    .dataframe thead tr:only-child th {\n",
       "        text-align: right;\n",
       "    }\n",
       "\n",
       "    .dataframe thead th {\n",
       "        text-align: left;\n",
       "    }\n",
       "\n",
       "    .dataframe tbody tr th {\n",
       "        vertical-align: top;\n",
       "    }\n",
       "</style>\n",
       "<table border=\"1\" class=\"dataframe\">\n",
       "  <thead>\n",
       "    <tr style=\"text-align: right;\">\n",
       "      <th></th>\n",
       "      <th>0</th>\n",
       "      <th>1.061e+05</th>\n",
       "    </tr>\n",
       "  </thead>\n",
       "  <tbody>\n",
       "    <tr>\n",
       "      <th>0</th>\n",
       "      <td>0.0831</td>\n",
       "      <td>93240.0</td>\n",
       "    </tr>\n",
       "    <tr>\n",
       "      <th>1</th>\n",
       "      <td>0.1465</td>\n",
       "      <td>166720.0</td>\n",
       "    </tr>\n",
       "    <tr>\n",
       "      <th>2</th>\n",
       "      <td>0.2587</td>\n",
       "      <td>153780.0</td>\n",
       "    </tr>\n",
       "    <tr>\n",
       "      <th>3</th>\n",
       "      <td>0.4828</td>\n",
       "      <td>118800.0</td>\n",
       "    </tr>\n",
       "    <tr>\n",
       "      <th>4</th>\n",
       "      <td>0.7448</td>\n",
       "      <td>116900.0</td>\n",
       "    </tr>\n",
       "  </tbody>\n",
       "</table>\n",
       "</div>"
      ],
      "text/plain": [
       "        0   1.061e+05\n",
       "0  0.0831     93240.0\n",
       "1  0.1465    166720.0\n",
       "2  0.2587    153780.0\n",
       "3  0.4828    118800.0\n",
       "4  0.7448    116900.0"
      ]
     },
     "execution_count": 7,
     "metadata": {},
     "output_type": "execute_result"
    }
   ],
   "source": [
    "df.head()"
   ]
  },
  {
   "cell_type": "code",
   "execution_count": 8,
   "metadata": {},
   "outputs": [
    {
     "data": {
      "text/plain": [
       "(15, 2)"
      ]
     },
     "execution_count": 8,
     "metadata": {},
     "output_type": "execute_result"
    }
   ],
   "source": [
    "df.shape"
   ]
  },
  {
   "cell_type": "code",
   "execution_count": null,
   "metadata": {
    "collapsed": true
   },
   "outputs": [],
   "source": []
  }
 ],
 "metadata": {
  "kernelspec": {
   "display_name": "Python 3",
   "language": "python",
   "name": "python3"
  },
  "language_info": {
   "codemirror_mode": {
    "name": "ipython",
    "version": 3
   },
   "file_extension": ".py",
   "mimetype": "text/x-python",
   "name": "python",
   "nbconvert_exporter": "python",
   "pygments_lexer": "ipython3",
   "version": "3.6.1"
  }
 },
 "nbformat": 4,
 "nbformat_minor": 2
}
