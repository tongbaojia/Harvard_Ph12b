{
 "cells": [
   {
   "cell_type": "markdown",
   "metadata": {},
   "source": [
    "Tony Tong. For Harvard Ph12b 2017. "
   ]
  },
  {
   "cell_type": "code",
   "execution_count": null,
   "metadata": {
    "collapsed": false
   },
   "outputs": [],
   "source": ["# import_text.py\n# -------------------------------------------------------------------------\n# Load data from a text file by reading the file line by line.\n# ------------------------------------------------------------------------- \nimport numpy as np\n\nf = open(\"HIVseries.csv\")\ntemp_data = []\n\nfor line in f:\n\tprint(line)\n\tx,y = line.split(',')\n\ttemp_data += [ (float(x), float(y)) ]\n\nf.close()\n\ndata_set = np.array(temp_data)\n"]
  }
 ],
 "metadata": {
  "kernelspec": {
   "display_name": "Python 3",
   "language": "python",
   "name": "python3"
  },
  "language_info": {
   "codemirror_mode": {
    "name": "ipython",
    "version": 3
   },
   "file_extension": ".py",
   "mimetype": "text/x-python",
   "name": "python",
   "nbconvert_exporter": "python",
   "pygments_lexer": "ipython3",
   "version": "3.6.1"
  }
 },
 "nbformat": 4,
 "nbformat_minor": 2
}