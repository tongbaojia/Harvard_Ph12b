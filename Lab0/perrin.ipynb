{
 "cells": [
   {
   "cell_type": "markdown",
   "metadata": {},
   "source": [
    "Tony Tong. For Harvard Ph12b 2017. "
   ]
  },
  {
   "cell_type": "code",
   "execution_count": null,
   "metadata": {
    "collapsed": false
   },
   "outputs": [],
   "source": ["# perrin.py\n# -------------------------------------------------------------------------\n# Generate figure displaying Perrin's experimental data on Brownian motion.\n# This script requires the data set 04brownian/g26perrindata.npy.\n# ------------------------------------------------------------------------- \nimport numpy as np\nimport matplotlib.pyplot as plt\n\ndata = np.load('g26perrindata.npy')\n\nplt.figure(figsize=(10,10))\nplt.plot(data[:,0], data[:,1], 'b.', ms=16)\nplt.axis([-20,20,-20,20])\nplt.grid(b=True,which='major',ls='-',lw=1.5,c='g')\nplt.xlabel('$\\\\Delta x$ [$\\\\mu$m]', fontsize=24)\nplt.ylabel('$\\\\Delta y$ [$\\\\mu$m]', fontsize=24)\nax=plt.gca()\nax.set_xticklabels(ax.get_xticks(), weight='bold', fontsize=16)\nax.set_yticklabels(ax.get_yticks(), weight='bold', fontsize=16)\nplt.show()\n"]
  }
 ],
 "metadata": {
  "kernelspec": {
   "display_name": "Python 3",
   "language": "python",
   "name": "python3"
  },
  "language_info": {
   "codemirror_mode": {
    "name": "ipython",
    "version": 3
   },
   "file_extension": ".py",
   "mimetype": "text/x-python",
   "name": "python",
   "nbconvert_exporter": "python",
   "pygments_lexer": "ipython3",
   "version": "3.6.1"
  }
 },
 "nbformat": 4,
 "nbformat_minor": 2
}