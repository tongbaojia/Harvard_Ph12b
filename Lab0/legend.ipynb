{
 "cells": [
   {
   "cell_type": "markdown",
   "metadata": {},
   "source": [
    "Tony Tong. For Harvard Ph12b 2017. "
   ]
  },
  {
   "cell_type": "code",
   "execution_count": null,
   "metadata": {
    "collapsed": false
   },
   "outputs": [],
   "source": ["# legend.py\n# -------------------------------------------------------------------------\n# Create a plot with a legend to distinguish multiple curves.\n# ------------------------------------------------------------------------- \nimport numpy as np\nimport matplotlib.pyplot as plt\n\nnum_curves = 3\nx = np.linspace(0, 1, 51)\ny = np.zeros((x.size, num_curves))\nfor n in range(num_curves):\n\ty[:, n] = np.sin((n+1) * x * 2 * np.pi)\n\nplt.figure()\nplt.plot(x, y, linewidth=2)\n\nax = plt.gca()\nax.legend(\t(\"sin(2$\\\\pi$x)\", \"sin(4$\\\\pi$x)\", \"sin(6$\\\\pi$x)\") )\n\nplt.show()\n"]
  }
 ],
 "metadata": {
  "kernelspec": {
   "display_name": "Python 3",
   "language": "python",
   "name": "python3"
  },
  "language_info": {
   "codemirror_mode": {
    "name": "ipython",
    "version": 3
   },
   "file_extension": ".py",
   "mimetype": "text/x-python",
   "name": "python",
   "nbconvert_exporter": "python",
   "pygments_lexer": "ipython3",
   "version": "3.6.1"
  }
 },
 "nbformat": 4,
 "nbformat_minor": 2
}