{
 "cells": [
  {
   "cell_type": "code",
   "execution_count": 4,
   "metadata": {},
   "outputs": [],
   "source": [
    "import numpy as np\n",
    "import matplotlib.pyplot as plt\n",
    "from numpy import linalg as LA\n",
    "import seaborn ##don't have to use\n",
    "from tqdm import tqdm ##don't have to use\n",
    "% matplotlib inline\n",
    "import matplotlib.mlab as mlab\n",
    "from scipy.stats import norm\n",
    "from scipy.optimize import curve_fit"
   ]
  },
  {
   "cell_type": "code",
   "execution_count": 8,
   "metadata": {},
   "outputs": [
    {
     "data": {
      "text/plain": [
       "array([5, 2, 5, 3, 2, 0, 3, 5, 5, 3])"
      ]
     },
     "execution_count": 8,
     "metadata": {},
     "output_type": "execute_result"
    }
   ],
   "source": [
    "np.random.choice(6, 10)"
   ]
  },
  {
   "cell_type": "code",
   "execution_count": 54,
   "metadata": {},
   "outputs": [],
   "source": [
    "def coin_toss(ntrial, ncoin=1):\n",
    "    result = np.array(np.zeros(ntrial))\n",
    "    for i in np.arange(ntrial):\n",
    "        result[i] =  np.random.choice(2, ncoin).sum()\n",
    "    return result\n",
    "\n",
    "Ntrial = 1000000\n",
    "Ncoin  = 10"
   ]
  },
  {
   "cell_type": "code",
   "execution_count": 55,
   "metadata": {},
   "outputs": [
    {
     "name": "stdout",
     "output_type": "stream",
     "text": [
      "mu 4.999723 sigma 1.58225248405\n",
      "[ 0  1  2  3  4  5  6  7  8  9 10 11] 12 0 1 10\n",
      "[  0.   1.   2.   3.   4.   5.   6.   7.   8.   9.  10.] 11\n",
      "[    986.    9810.   44204.  117027.  205054.  245971.  204582.  117767.\n",
      "   43886.    9726.     987.] 11\n"
     ]
    },
    {
     "data": {
      "image/png": "[encoded data removed]",
      "text/plain": [
       "<matplotlib.figure.Figure at 0x11ecca0b8>"
      ]
     },
     "metadata": {},
     "output_type": "display_data"
    }
   ],
   "source": [
    "data = coin_toss(Ntrial, ncoin=Ncoin)\n",
    "(mu, sigma) = norm.fit(data)\n",
    "print(\"mu\", mu, \"sigma\", sigma)\n",
    "\n",
    "plt.clf()\n",
    "nbins = Ncoin + 1\n",
    "n, bins, patches = plt.hist(data, range(0, 12), align=\"left\", normed=0, facecolor='green')\n",
    "print(bins, len(bins), bins[0], bins[1], bins[-2])\n",
    "bin_size = abs(bins[1]-bins[0])\n",
    "x =np.linspace(start=bins[0],\n",
    "               stop=bins[-2]+bin_size,num=nbins,endpoint=True)\n",
    "x = np.linspace(0, 10, 11)\n",
    "print(x, len(x))\n",
    "y = n\n",
    "print(y, len(y))"
   ]
  },
  {
   "cell_type": "code",
   "execution_count": 56,
   "metadata": {},
   "outputs": [],
   "source": [
    "def Gaussian(x, *p):\n",
    "    N, mean, std = p\n",
    "    return N * np.exp( - (x - mean) ** 2 / 2 / std ** 2)"
   ]
  },
  {
   "cell_type": "code",
   "execution_count": 57,
   "metadata": {},
   "outputs": [
    {
     "name": "stdout",
     "output_type": "stream",
     "text": [
      "[  2.47332730e+05   5.00031870e+00  -1.62338903e+00] [  1.15511893e+03   8.75437264e-03   8.75552264e-03]\n",
      "mean 5.00031870122 error 0.00875437264287\n"
     ]
    }
   ],
   "source": [
    "p0 = [Ntrial/10, Ncoin, Ncoin]\n",
    "popt, pcov = curve_fit(Gaussian, x, y, p0=p0)\n",
    "print(popt, np.sqrt(pcov.diagonal()))\n",
    "print(\"mean\", popt[1],  \"error\", np.sqrt(pcov.diagonal())[1])"
   ]
  },
  {
   "cell_type": "code",
   "execution_count": 58,
   "metadata": {},
   "outputs": [
    {
     "data": {
      "image/png": "[encoded data removed]",
      "text/plain": [
       "<matplotlib.figure.Figure at 0x11b589470>"
      ]
     },
     "metadata": {},
     "output_type": "display_data"
    },
    {
     "name": "stdout",
     "output_type": "stream",
     "text": [
      "mean 5.00031870122 error 0.00875437264287\n"
     ]
    }
   ],
   "source": [
    "# add a 'best fit' line\n",
    "#y = mlab.normpdf( bins, mu, sigma) * Ntrial\n",
    "plt.hist(data, nbins, normed=0, facecolor='green')\n",
    "y_fit = Gaussian(x, *popt)\n",
    "l = plt.plot(x, y_fit, 'r--', linewidth=2)\n",
    "plt.show()\n",
    "print(\"mean\", popt[1],  \"error\", np.sqrt(pcov.diagonal())[1])"
   ]
  },
  {
   "cell_type": "markdown",
   "metadata": {},
   "source": [
    "## Do random walk now"
   ]
  },
  {
   "cell_type": "code",
   "execution_count": 60,
   "metadata": {},
   "outputs": [],
   "source": [
    "def random_walk(ntrial, ndim=1):\n",
    "    steps = np.array([-(1/ndim) ** 0.5, (1/ndim) ** 0.5])\n",
    "    result = np.array(np.zeros([ntrial, ndim]))\n",
    "    for i in np.arange(ntrial):\n",
    "        result[i, :] =  np.random.choice(steps, ndim) + result[i - 1, :]\n",
    "    return result"
   ]
  },
  {
   "cell_type": "code",
   "execution_count": 94,
   "metadata": {},
   "outputs": [],
   "source": [
    "N_drunks = 100\n",
    "N_steps = 4000\n",
    "N_dim = 2\n",
    "\n",
    "total_walk = np.array(np.zeros(N_steps))\n",
    "\n",
    "for i in np.arange(N_drunks):\n",
    "    walks = random_walk(N_steps, N_dim)\n",
    "    walks_size = LA.norm(walks, axis=(1,))\n",
    "    total_walk += walks_size\n",
    "\n",
    "total_walk = total_walk / N_drunks"
   ]
  },
  {
   "cell_type": "code",
   "execution_count": 95,
   "metadata": {},
   "outputs": [
    {
     "data": {
      "text/plain": [
       "[<matplotlib.lines.Line2D at 0x11b5c5a20>]"
      ]
     },
     "execution_count": 95,
     "metadata": {},
     "output_type": "execute_result"
    },
    {
     "data": {
      "image/png": "[encoded data removed]",
      "text/plain": [
       "<matplotlib.figure.Figure at 0x11b705518>"
      ]
     },
     "metadata": {},
     "output_type": "display_data"
    }
   ],
   "source": [
    "plt.plot(walks[:100, 0],walks[:100, 1], '-o')"
   ]
  },
  {
   "cell_type": "code",
   "execution_count": 96,
   "metadata": {},
   "outputs": [
    {
     "data": {
      "text/plain": [
       "[<matplotlib.lines.Line2D at 0x11b8b7ba8>]"
      ]
     },
     "execution_count": 96,
     "metadata": {},
     "output_type": "execute_result"
    },
    {
     "data": {
      "image/png": "[encoded data removed]",
      "text/plain": [
       "<matplotlib.figure.Figure at 0x11ba15358>"
      ]
     },
     "metadata": {},
     "output_type": "display_data"
    }
   ],
   "source": [
    "plt.clf()\n",
    "plt.plot(np.arange(N_steps), total_walk)"
   ]
  },
  {
   "cell_type": "code",
   "execution_count": 97,
   "metadata": {},
   "outputs": [],
   "source": [
    "def distance(x, *p):\n",
    "    a, b = p\n",
    "    return a * np.sqrt(x) + b * 0"
   ]
  },
  {
   "cell_type": "code",
   "execution_count": 98,
   "metadata": {},
   "outputs": [
    {
     "name": "stdout",
     "output_type": "stream",
     "text": [
      "[ 0.87703242  1.        ]\n",
      "coefficient 0.87703242449\n"
     ]
    },
    {
     "name": "stderr",
     "output_type": "stream",
     "text": [
      "/Users/renormalization/anaconda/lib/python3.6/site-packages/scipy/optimize/minpack.py:779: OptimizeWarning: Covariance of the parameters could not be estimated\n",
      "  category=OptimizeWarning)\n"
     ]
    }
   ],
   "source": [
    "p1 = [1, 1]\n",
    "w_par, w_cov = curve_fit(distance, np.arange(N_steps), total_walk, p0=p1)\n",
    "print(w_par)\n",
    "print(\"coefficient\", w_par[0])"
   ]
  },
  {
   "cell_type": "code",
   "execution_count": 99,
   "metadata": {},
   "outputs": [
    {
     "data": {
      "text/plain": [
       "[<matplotlib.lines.Line2D at 0x11b770f28>]"
      ]
     },
     "execution_count": 99,
     "metadata": {},
     "output_type": "execute_result"
    },
    {
     "data": {
      "image/png": "[encoded data removed]",
      "text/plain": [
       "<matplotlib.figure.Figure at 0x11ed5fef0>"
      ]
     },
     "metadata": {},
     "output_type": "display_data"
    }
   ],
   "source": [
    "plt.clf()\n",
    "plt.plot(np.arange(N_steps), total_walk)\n",
    "plt.plot(np.arange(N_steps), distance(np.arange(N_steps), *w_par), \"r\")"
   ]
  },
  {
   "cell_type": "code",
   "execution_count": 100,
   "metadata": {},
   "outputs": [
    {
     "name": "stdout",
     "output_type": "stream",
     "text": [
      "0.87703242449 3.141592653589793\n"
     ]
    }
   ],
   "source": [
    "print(w_par[0], np.pi)"
   ]
  },
  {
   "cell_type": "markdown",
   "metadata": {},
   "source": [
    "See\n",
    "https://math.stackexchange.com/questions/103142/expected-value-of-random-walk\n",
    "http://mathworld.wolfram.com/RandomWalk1-Dimensional.html"
   ]
  },
  {
   "cell_type": "code",
   "execution_count": 101,
   "metadata": {},
   "outputs": [],
   "source": [
    "from scipy.special import gamma"
   ]
  },
  {
   "cell_type": "code",
   "execution_count": 102,
   "metadata": {},
   "outputs": [
    {
     "data": {
      "text/plain": [
       "0.88622692545275794"
      ]
     },
     "execution_count": 102,
     "metadata": {},
     "output_type": "execute_result"
    }
   ],
   "source": [
    "gamma((N_dim + 1)/2)/gamma((N_dim)/2) * ((2/N_dim) ** 0.5)"
   ]
  },
  {
   "cell_type": "code",
   "execution_count": 103,
   "metadata": {},
   "outputs": [
    {
     "data": {
      "text/plain": [
       "3.1415926535897927"
      ]
     },
     "execution_count": 103,
     "metadata": {},
     "output_type": "execute_result"
    }
   ],
   "source": [
    "1 / (gamma((1+ 1)/2)/gamma((1)/2) ** 2) ## 1D this is Pi"
   ]
  },
  {
   "cell_type": "code",
   "execution_count": null,
   "metadata": {},
   "outputs": [],
   "source": []
  }
 ],
 "metadata": {
  "kernelspec": {
   "display_name": "Python 3",
   "language": "python",
   "name": "python3"
  },
  "language_info": {
   "codemirror_mode": {
    "name": "ipython",
    "version": 3
   },
   "file_extension": ".py",
   "mimetype": "text/x-python",
   "name": "python",
   "nbconvert_exporter": "python",
   "pygments_lexer": "ipython3",
   "version": "3.6.1"
  }
 },
 "nbformat": 4,
 "nbformat_minor": 2
}
