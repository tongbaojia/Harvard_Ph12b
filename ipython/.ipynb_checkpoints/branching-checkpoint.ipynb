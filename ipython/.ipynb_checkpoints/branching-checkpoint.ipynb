{
 "cells": [
  {
   "cell_type": "markdown",
   "metadata": {},
   "source": [
    "This is a first introduction"
   ]
  },
  {
   "cell_type": "code",
   "execution_count": 1,
   "metadata": {},
   "outputs": [
    {
     "name": "stdout",
     "output_type": "stream",
     "text": [
      "Pick a number: 1\n",
      "Square root of 1.0 is 1.0000\n",
      "Another [y/n]? n\n",
      "Bye!\n"
     ]
    }
   ],
   "source": [
    "import numpy as np\n",
    "\n",
    "for trial in range(5):\n",
    "\tuserInput = input('Pick a number: ')\n",
    "\tuserNumber = float(userInput)\n",
    "\tif userNumber < 0:\n",
    "\t\tprint('Square root is not real.')\n",
    "\telse:\n",
    "\t\tprint('Square root of {} is {:.4f}'.format(userNumber, np.sqrt(userNumber)))\n",
    "\tuserAgain = input('Another [y/n]? ')\n",
    "\tif userAgain != 'y':\n",
    "\t\tbreak\n",
    "\n",
    "if trial == 4:\n",
    "\tprint('Sorry, only 5 per customer.')\n",
    "elif userAgain == 'n':\n",
    "\tprint('Bye!')\n",
    "else:\n",
    "\tprint('Sorry, I did not understand that.')\n"
   ]
  },
  {
   "cell_type": "code",
   "execution_count": null,
   "metadata": {
    "collapsed": true
   },
   "outputs": [],
   "source": []
  }
 ],
 "metadata": {
  "kernelspec": {
   "display_name": "Python 3",
   "language": "python",
   "name": "python3"
  },
  "language_info": {
   "codemirror_mode": {
    "name": "ipython",
    "version": 3
   },
   "file_extension": ".py",
   "mimetype": "text/x-python",
   "name": "python",
   "nbconvert_exporter": "python",
   "pygments_lexer": "ipython3",
   "version": "3.6.1"
  }
 },
 "nbformat": 4,
 "nbformat_minor": 2
}
